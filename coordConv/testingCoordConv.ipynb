{
 "cells": [
  {
   "cell_type": "code",
   "execution_count": 25,
   "metadata": {},
   "outputs": [
    {
     "name": "stdout",
     "output_type": "stream",
     "text": [
      "************************************************** \n",
      "Testing 'Museum of Science' .....\n",
      "test_lla_to_ecef:lla:[42.3679, -71.071, 10.0] shouldConvert2:[1531010, -4464333, 4275895] got: x,y,z=(1531009.0787329553, -4464336.914356299, 4275891.320312228)\n",
      "Pass\n",
      "test_lla_to_enu:lla:[42.3679, -71.071, 10.0] shouldConvert2:[0.0, 0.0, 0.0] got: x,y,z=(0.0, 0.0, 0.0)  Lengths:(0.0, 0.0) percent diff:0.0000%\n",
      "Failed 'Museum of Science':[42.3679, -71.071, 10.0, 1531010, -4464333, 4275895, 0.0, 0.0, 0.0]   ==>    \n",
      "************************************************** \n",
      "Testing 'Kendall Square' .....\n",
      "test_lla_to_ecef:lla:[42.3657, -71.0823, 7.0] shouldConvert2:[1530181, -4464795, 4275706] got: x,y,z=(1530181.254671912, -4464792.464134519, 4275708.741564096)\n",
      "Pass\n",
      "test_lla_to_enu:lla:[42.3657, -71.0823, 7.0] shouldConvert2:[-934.4, -252.6, -3.0] got: x,y,z=(-930.835034551217, -244.3153165165148, -3.0725096803650986)  Lengths:(962.3685758316644, 9.019435499314568) percent diff:0.9372%\n",
      "Failed 'Kendall Square':[42.3657, -71.0823, 7.0, 1530181, -4464795, 4275706, -934.4, -252.6, -3.0]   ==>    \n",
      "************************************************** \n",
      "Testing 'Hatch Shell' .....\n",
      "test_lla_to_ecef:lla:[42.3579, -71.0739, 4.0] shouldConvert2:[1531021, -4465118, 4275068] got: x,y,z=(1531024.448912296, -4465118.228253677, 4275066.512968136)\n",
      "Pass\n",
      "test_lla_to_enu:lla:[42.3579, -71.0739, 4.0] shouldConvert2:[-244.4, -1113.7, -6.0] got: x,y,z=(-238.91630566076572, -1110.7999708705845, -6.101403132244084)  Lengths:(1136.2195225909745, 6.2041401622495425) percent diff:0.5460%\n",
      "Failed 'Hatch Shell':[42.3579, -71.0739, 4.0, 1531021, -4465118, 4275068, -244.4, -1113.7, -6.0]   ==>    \n",
      "************************************************** \n",
      "Testing 'Frog Pond' .....\n",
      "test_lla_to_ecef:lla:[42.3562, -71.0658, 15.0] shouldConvert2:[1531700, -4465028, 4274936] got: x,y,z=(1531699.5957524586, -4465029.773242215, 4274934.381352144)\n",
      "Pass\n",
      "test_lla_to_enu:lla:[42.3562, -71.0658, 15.0] shouldConvert2:[427.7, -1302.1, 5.0] got: x,y,z=(428.41393573878213, -1299.6296826303194, 4.852940716831917)  Lengths:(1368.4295244339692, 2.5756161551794885) percent diff:0.1882%\n",
      "Failed 'Frog Pond':[42.3562, -71.0658, 15.0, 1531700, -4465028, 4274936, 427.7, -1302.1, 5.0]   ==>    \n"
     ]
    }
   ],
   "source": [
    "from coordinate_conversion import *\n",
    "earthSpots={\"Bunker Hill Monument\":[42.37630000,-71.06070000,30.0,1531609,-4463479,4276597,844.3,932.3,20.0],\n",
    "            \"Old South Church\":[42.35020000,-71.07800000,20.0,1530895,-4465783,4274447,-579.0,-1968.4,10.0],\n",
    "            \"Old North Church\":[42.36640000,-71.05440000,20.0,1532341,-4464003,4275779,1366.7,-166.4,10.0],\n",
    "            \"USS Constitution\":[42.37250000,-71.05660000,5.0,1532016,-4463622,4276267,1182.5,508.9,-5.0],\n",
    "            \"Museum of Science\":[42.36790000,-71.07100000,10.0,1531010,-4464333,4275895,0.0,0.0,0.0],\n",
    "            \"Kendall Square\":[42.36570000,-71.08230000,7.0,1530181,-4464795,4275706,-934.4,-252.6,-3.0],\n",
    "            \"Hatch Shell\":[42.35790000,-71.07390000,4.0,1531021,-4465118,4275068,-244.4,-1113.7,-6.0],\n",
    "            \"Frog Pond\":[42.35620000,-71.06580000,15.0,1531700,-4465028,4274936,427.7,-1302.1,5.0],\n",
    "            \"Public Garden\":[42.35400000,-71.07000000,8.0,1531421,-4465292,4274751,77.8,-1545.9,-2.0],\n",
    "            \"Public Library\":[42.34950000,-71.07820000,20.0,1530898,-4465841,4274385,-594.8,-2052.0,10.0],\n",
    "            \"MIT Dome\":[42.35990000,-71.09200000,40.0,1529573,-4465489,4275251,-1733.5,-898.5,30.0]}\n",
    "\n",
    "def test_lla_to_ecef(LLA,ECEF):\n",
    "    # Test lla_to_ecef function\n",
    "    x, y, z = lla_to_ecef(*LLA)\n",
    "    print(f\"test_lla_to_ecef:lla:{LLA} shouldConvert2:{ECEF} got: x,y,z={(x,y,z)}\")\n",
    "    assert np.isclose(x, ECEF[0], rtol=1e-3)\n",
    "    assert np.isclose(y, ECEF[1], rtol=1e-3)\n",
    "    assert np.isclose(z, ECEF[2], rtol=1e-3)\n",
    "\n",
    "def test_ecef_to_lla(ECEF,LLA):\n",
    "    # Test ecef_to_lla function\n",
    "    x, y, z = ECEF  # San Francisco ECEF coordinates\n",
    "    lat, lon, alt = ecef_to_lla(x, y, z)\n",
    "    print(f\"test_ecef_to_lla:{ECEF} shouldConvert2:{LLA} got: x,y,z={(x,y,z)}\")\n",
    "    assert np.isclose(lat, LLA[0], rtol=1e-3)\n",
    "    assert np.isclose(lon, LLA[1], rtol=1e-3)\n",
    "    assert np.isclose(alt, LLA[2], rtol=1e-3)\n",
    "\n",
    "def test_lla_to_enu(LLA,LLA0,ENU):\n",
    "    # Test lla_to_enu function\n",
    "    LLA0  # Reference point at the same location\n",
    "    east, north, up = lla_to_enu(*LLA,*LLA0)\n",
    "    ENUlenTgt=np.linalg.norm(np.array(ENU))\n",
    "    ENUlen=np.linalg.norm(np.array(np.array([east,north,up])))\n",
    "    ENUdiff=np.linalg.norm(np.array(np.array([east,north,up]))-np.array(ENU))\n",
    "    percentDiff=ENUdiff/ENUlen if ENUlen>0 else 1e-20\n",
    "    print(f\"test_lla_to_enu:lla:{LLA} shouldConvert2:{ENU} got: x,y,z={(east, north, up)}  Lengths:{(ENUlen,ENUdiff)} percent diff:{percentDiff*100:1.4f}%\")\n",
    "    assert np.isclose(1e-5,percentDiff, rtol=1e-1)\n",
    "    #assert np.isclose(east, ENU[0], rtol=1e-3)\n",
    "    #assert np.isclose(north,  ENU[1], rtol=1e-3)\n",
    "    #assert np.isclose(up,  ENU[2], rtol=1e-3)\n",
    "\n",
    "def test_enu_to_lla(ENU,LLA):\n",
    "    # Test enu_to_lla function\n",
    "    east, north, up = 100, -100, 50  # Example ENU coordinates\n",
    "    ref_lat, ref_lon, ref_alt = 37.7749, -122.4194, 0  # Reference point at San Francisco\n",
    "    lat, lon, alt = enu_to_lla(east, north, up, ref_lat, ref_lon, ref_alt)\n",
    "    assert np.isclose(lat, 37.7753, rtol=1e-3)\n",
    "    assert np.isclose(lon, -122.4189, rtol=1e-3)\n",
    "    assert np.isclose(alt, 50, rtol=1e-3)\n",
    "\n",
    "if __name__=='__main__':\n",
    "    for i,(kk,vv) in enumerate(earthSpots.items()):\n",
    "        if i>3:\n",
    "            print(f\"{'*'*50} \\nTesting '{kk}' .....\")\n",
    "            try:\n",
    "                test_lla_to_ecef(vv[:3],vv[3:6])\n",
    "                print(\"Pass\")\n",
    "                test_lla_to_enu(vv[:3],earthSpots[\"Museum of Science\"][:3],vv[6:9])\n",
    "                print(\"Pass\")\n",
    "                test_ecef_to_lla(vv[3:6],vv[:3])\n",
    "                print(\"Pass\")\n",
    "            except AssertionError as err:\n",
    "                print(f\"Failed '{kk}':{vv}   ==>    {err}\")\n",
    "        if i>6:\n",
    "            break\n",
    "#        test_lla_to_enu()\n",
    "#    test_enu_to_lla()"
   ]
  },
  {
   "cell_type": "code",
   "execution_count": 2,
   "metadata": {},
   "outputs": [
    {
     "name": "stdout",
     "output_type": "stream",
     "text": [
      "{'Bunker Hill Monument': [42.3763, -71.0607, 30.0, 1531609, -4463479, 4276597, 844.2, 932.4, 19.9], 'Old South Church': [42.3502, -71.078, 20.0, 1530895, -4465783, 4274447, -579.1, -1968.3, 9.7], 'Old North Church': [42.3664, -71.0544, 20.0, 1532341, -4464003, 4275779, 1366.7, -166.3, 9.9], 'USS Constitution': [42.3725, -71.0566, 5.0, 1532016, -4463622, 4276267, 1182.4, 509.0, -5.1], 'Museum of Science': [42.3679, -71.071, 10.0, 1531010, -4464333, 4275895, 0.0, 0.0, 0.0], 'Kendall Square': [42.3657, -71.0823, 7.0, 1530181, -4464795, 4275706, -934.4, -252.5, -3.1], 'Hatch Shell': [42.3579, -71.0739, 4.0, 1531021, -4465118, 4275068, -244.4, -1113.7, -6.1], 'Frog Pond': [42.3562, -71.0658, 15.0, 1531700, -4465028, 4274936, 427.8, -1302.1, 4.9], 'Public Garden': [42.354, -71.07, 8.0, 1531421, -4465292, 4274751, 77.8, -1545.9, -2.2], 'Public Library': [42.3495, -71.0782, 20.0, 1530898, -4465841, 4274385, -595.0, -2052.0, 9.6], 'MIT Dome': [42.3599, -71.092, 40.0, 1529573, -4465489, 4275251, -1733.8, -898.3, 29.7]}\n"
     ]
    }
   ],
   "source": [
    "earthSpots={\"Bunker Hill Monument\":[42.37630000,-71.06070000,30.0,1531609,-4463479,4276597,844.2,932.4,19.9],\n",
    "            \"Old South Church\":[42.35020000,-71.07800000,20.0,1530895,-4465783,4274447,-579.1,-1968.3,9.7],\n",
    "            \"Old North Church\":[42.36640000,-71.05440000,20.0,1532341,-4464003,4275779,1366.7,-166.3,9.9],\n",
    "            \"USS Constitution\":[42.37250000,-71.05660000,5.0,1532016,-4463622,4276267,1182.4,509.0,-5.1],\n",
    "            \"Museum of Science\":[42.36790000,-71.07100000,10.0,1531010,-4464333,4275895,0.0,0.0,0.0],\n",
    "            \"Kendall Square\":[42.36570000,-71.08230000,7.0,1530181,-4464795,4275706,-934.4,-252.5,-3.1],\n",
    "            \"Hatch Shell\":[42.35790000,-71.07390000,4.0,1531021,-4465118,4275068,-244.4,-1113.7,-6.1],\n",
    "            \"Frog Pond\":[42.35620000,-71.06580000,15.0,1531700,-4465028,4274936,427.8,-1302.1,4.9],\n",
    "            \"Public Garden\":[42.35400000,-71.07000000,8.0,1531421,-4465292,4274751,77.8,-1545.9,-2.2],\n",
    "            \"Public Library\":[42.34950000,-71.07820000,20.0,1530898,-4465841,4274385,-595.0,-2052.0,9.6],\n",
    "            \"MIT Dome\":[42.35990000,-71.09200000,40.0,1529573,-4465489,4275251,-1733.8,-898.3,29.7]}\n",
    "print(earthSpots)"
   ]
  },
  {
   "cell_type": "code",
   "execution_count": 14,
   "metadata": {},
   "outputs": [
    {
     "data": {
      "text/plain": [
       "6.2041401622495425"
      ]
     },
     "execution_count": 14,
     "metadata": {},
     "output_type": "execute_result"
    }
   ],
   "source": [
    "np.power(sum((np.array([-244.4, -1113.7, -6.0]) - np.array([-238.91630566076572, -1110.7999708705845, -6.101403132244084]) )**2),0.5)"
   ]
  },
  {
   "cell_type": "code",
   "execution_count": 2,
   "metadata": {},
   "outputs": [
    {
     "data": {
      "text/plain": [
       "<function coordinate_conversion.lla_to_enu_flat(lat, lon, alt, ref_lat, ref_lon, ref_alt)>"
      ]
     },
     "execution_count": 2,
     "metadata": {},
     "output_type": "execute_result"
    }
   ],
   "source": [
    "from coordinate_conversion import *\n",
    "lla_to_enu_flat"
   ]
  },
  {
   "cell_type": "code",
   "execution_count": null,
   "metadata": {},
   "outputs": [],
   "source": []
  }
 ],
 "metadata": {
  "kernelspec": {
   "display_name": "astronomy",
   "language": "python",
   "name": "python3"
  },
  "language_info": {
   "codemirror_mode": {
    "name": "ipython",
    "version": 3
   },
   "file_extension": ".py",
   "mimetype": "text/x-python",
   "name": "python",
   "nbconvert_exporter": "python",
   "pygments_lexer": "ipython3",
   "version": "3.10.4"
  },
  "orig_nbformat": 4
 },
 "nbformat": 4,
 "nbformat_minor": 2
}
