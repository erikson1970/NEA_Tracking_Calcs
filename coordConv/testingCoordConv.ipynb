{
 "cells": [
  {
   "cell_type": "code",
   "execution_count": 5,
   "metadata": {},
   "outputs": [
    {
     "name": "stdout",
     "output_type": "stream",
     "text": [
      "lla:[42.3763, -71.0607, 30.0]  x,y,z:(1531612.2977737233, -4463480.7918216875, 4276594.142816634)\n",
      "Failed 'Bunker Hill Monument':[42.3763, -71.0607, 30.0, 1531609, -4463479, 4276597, 844.2, 932.4, 19.9]   ==>    \n",
      "lla:[42.3502, -71.078, 20.0]  x,y,z:(1530895.6245679937, -4465784.057129563, 4274445.21520773)\n",
      "Failed 'Old South Church':[42.3502, -71.078, 20.0, 1530895, -4465783, 4274447, -579.1, -1968.3, 9.7]   ==>    \n",
      "lla:[42.3664, -71.0544, 20.0]  x,y,z:(1532341.2964878432, -4464006.343825963, 4275774.952523064)\n",
      "Failed 'Old North Church':[42.3664, -71.0544, 20.0, 1532341, -4464003, 4275779, 1366.7, -166.3, 9.9]   ==>    \n",
      "lla:[42.3725, -71.0566, 5.0]  x,y,z:(1532018.0528792448, -4463622.79255069, 4276265.458986897)\n",
      "Failed 'USS Constitution':[42.3725, -71.0566, 5.0, 1532016, -4463622, 4276267, 1182.4, 509.0, -5.1]   ==>    \n",
      "lla:[42.3679, -71.071, 10.0]  x,y,z:(1531009.0787329553, -4464336.914356299, 4275891.320312228)\n",
      "Failed 'Museum of Science':[42.3679, -71.071, 10.0, 1531010, -4464333, 4275895, 0.0, 0.0, 0.0]   ==>    \n",
      "lla:[42.3657, -71.0823, 7.0]  x,y,z:(1530181.254671912, -4464792.464134519, 4275708.741564096)\n",
      "Failed 'Kendall Square':[42.3657, -71.0823, 7.0, 1530181, -4464795, 4275706, -934.4, -252.5, -3.1]   ==>    \n",
      "lla:[42.3579, -71.0739, 4.0]  x,y,z:(1531024.448912296, -4465118.228253677, 4275066.512968136)\n",
      "Failed 'Hatch Shell':[42.3579, -71.0739, 4.0, 1531021, -4465118, 4275068, -244.4, -1113.7, -6.1]   ==>    \n",
      "lla:[42.3562, -71.0658, 15.0]  x,y,z:(1531699.5957524586, -4465029.773242215, 4274934.381352144)\n",
      "Failed 'Frog Pond':[42.3562, -71.0658, 15.0, 1531700, -4465028, 4274936, 427.8, -1302.1, 4.9]   ==>    \n",
      "lla:[42.354, -71.07, 8.0]  x,y,z:(1531424.021809969, -4465292.885416471, 4274749.074823081)\n",
      "Failed 'Public Garden':[42.354, -71.07, 8.0, 1531421, -4465292, 4274751, 77.8, -1545.9, -2.2]   ==>    \n",
      "lla:[42.3495, -71.0782, 20.0]  x,y,z:(1530897.0219980527, -4465838.951356398, 4274387.749781503)\n",
      "Failed 'Public Library':[42.3495, -71.0782, 20.0, 1530898, -4465841, 4274385, -595.0, -2052.0, 9.6]   ==>    \n",
      "lla:[42.3599, -71.092, 40.0]  x,y,z:(1529573.935748864, -4465485.220356924, 4275254.932380585)\n",
      "Failed 'MIT Dome':[42.3599, -71.092, 40.0, 1529573, -4465489, 4275251, -1733.8, -898.3, 29.7]   ==>    \n"
     ]
    }
   ],
   "source": [
    "from coordinate_conversion import *\n",
    "earthSpots={\"Bunker Hill Monument\":[42.37630000,-71.06070000,30.0,1531609,-4463479,4276597,844.2,932.4,19.9],\n",
    "            \"Old South Church\":[42.35020000,-71.07800000,20.0,1530895,-4465783,4274447,-579.1,-1968.3,9.7],\n",
    "            \"Old North Church\":[42.36640000,-71.05440000,20.0,1532341,-4464003,4275779,1366.7,-166.3,9.9],\n",
    "            \"USS Constitution\":[42.37250000,-71.05660000,5.0,1532016,-4463622,4276267,1182.4,509.0,-5.1],\n",
    "            \"Museum of Science\":[42.36790000,-71.07100000,10.0,1531010,-4464333,4275895,0.0,0.0,0.0],\n",
    "            \"Kendall Square\":[42.36570000,-71.08230000,7.0,1530181,-4464795,4275706,-934.4,-252.5,-3.1],\n",
    "            \"Hatch Shell\":[42.35790000,-71.07390000,4.0,1531021,-4465118,4275068,-244.4,-1113.7,-6.1],\n",
    "            \"Frog Pond\":[42.35620000,-71.06580000,15.0,1531700,-4465028,4274936,427.8,-1302.1,4.9],\n",
    "            \"Public Garden\":[42.35400000,-71.07000000,8.0,1531421,-4465292,4274751,77.8,-1545.9,-2.2],\n",
    "            \"Public Library\":[42.34950000,-71.07820000,20.0,1530898,-4465841,4274385,-595.0,-2052.0,9.6],\n",
    "            \"MIT Dome\":[42.35990000,-71.09200000,40.0,1529573,-4465489,4275251,-1733.8,-898.3,29.7]}\n",
    "\n",
    "def test_lla_to_ecef(LLA,ECEF):\n",
    "    # Test lla_to_ecef function\n",
    "    x, y, z = lla_to_ecef(*LLA)\n",
    "    print(f\"test_lla_to_ecef:lla:{LLA} shouldConvert2:{ECEF} got: x,y,z={(x,y,z)}\")\n",
    "    assert np.isclose(x, ECEF[0], rtol=1e-3)\n",
    "    assert np.isclose(y, ECEF[1], rtol=1e-3)\n",
    "    assert np.isclose(z, ECEF[2], rtol=1e-3)\n",
    "\n",
    "def test_ecef_to_lla(ECEF,LLA):\n",
    "    # Test ecef_to_lla function\n",
    "    x, y, z = ECEF  # San Francisco ECEF coordinates\n",
    "    lat, lon, alt = ecef_to_lla(x, y, z)\n",
    "    print(f\"test_ecef_to_lla:{ECEF} shouldConvert2:{LLA} got: x,y,z={(x,y,z)}\")\n",
    "    assert np.isclose(lat, LLA[0], rtol=1e-3)\n",
    "    assert np.isclose(lon, LLA[1], rtol=1e-3)\n",
    "    assert np.isclose(alt, LLA[2], rtol=1e-3)\n",
    "\n",
    "def test_lla_to_enu():\n",
    "    # Test lla_to_enu function\n",
    "    lat, lon, alt = 37.7749, -122.4194, 0  # San Francisco coordinates\n",
    "    ref_lat, ref_lon, ref_alt = 37.7749, -122.4194, 0  # Reference point at the same location\n",
    "    east, north, up = lla_to_enu(lat, lon, alt, ref_lat, ref_lon, ref_alt)\n",
    "    assert np.isclose(east, 0, rtol=1e-3)\n",
    "    assert np.isclose(north, 0, rtol=1e-3)\n",
    "    assert np.isclose(up, 0, rtol=1e-3)\n",
    "\n",
    "def test_enu_to_lla():\n",
    "    # Test enu_to_lla function\n",
    "    east, north, up = 100, -100, 50  # Example ENU coordinates\n",
    "    ref_lat, ref_lon, ref_alt = 37.7749, -122.4194, 0  # Reference point at San Francisco\n",
    "    lat, lon, alt = enu_to_lla(east, north, up, ref_lat, ref_lon, ref_alt)\n",
    "    assert np.isclose(lat, 37.7753, rtol=1e-3)\n",
    "    assert np.isclose(lon, -122.4189, rtol=1e-3)\n",
    "    assert np.isclose(alt, 50, rtol=1e-3)\n",
    "\n",
    "if __name__=='__main__':\n",
    "    for kk,vv in earthSpots.items():\n",
    "        try:\n",
    "            test_lla_to_ecef(vv[:3],vv[3:6])\n",
    "            test_ecef_to_lla(vv[3:6],vv[:3])\n",
    "        except AssertionError as err:\n",
    "            print(f\"Failed '{kk}':{vv}   ==>    {err}\")\n",
    "#        test_lla_to_enu()\n",
    "#    test_enu_to_lla()"
   ]
  },
  {
   "cell_type": "code",
   "execution_count": 2,
   "metadata": {},
   "outputs": [
    {
     "name": "stdout",
     "output_type": "stream",
     "text": [
      "{'Bunker Hill Monument': [42.3763, -71.0607, 30.0, 1531609, -4463479, 4276597, 844.2, 932.4, 19.9], 'Old South Church': [42.3502, -71.078, 20.0, 1530895, -4465783, 4274447, -579.1, -1968.3, 9.7], 'Old North Church': [42.3664, -71.0544, 20.0, 1532341, -4464003, 4275779, 1366.7, -166.3, 9.9], 'USS Constitution': [42.3725, -71.0566, 5.0, 1532016, -4463622, 4276267, 1182.4, 509.0, -5.1], 'Museum of Science': [42.3679, -71.071, 10.0, 1531010, -4464333, 4275895, 0.0, 0.0, 0.0], 'Kendall Square': [42.3657, -71.0823, 7.0, 1530181, -4464795, 4275706, -934.4, -252.5, -3.1], 'Hatch Shell': [42.3579, -71.0739, 4.0, 1531021, -4465118, 4275068, -244.4, -1113.7, -6.1], 'Frog Pond': [42.3562, -71.0658, 15.0, 1531700, -4465028, 4274936, 427.8, -1302.1, 4.9], 'Public Garden': [42.354, -71.07, 8.0, 1531421, -4465292, 4274751, 77.8, -1545.9, -2.2], 'Public Library': [42.3495, -71.0782, 20.0, 1530898, -4465841, 4274385, -595.0, -2052.0, 9.6], 'MIT Dome': [42.3599, -71.092, 40.0, 1529573, -4465489, 4275251, -1733.8, -898.3, 29.7]}\n"
     ]
    }
   ],
   "source": [
    "print(earthSpots)"
   ]
  },
  {
   "cell_type": "code",
   "execution_count": 7,
   "metadata": {},
   "outputs": [
    {
     "data": {
      "text/plain": [
       "[0,\n",
       " 0,\n",
       " 0,\n",
       " 0,\n",
       " 0,\n",
       " 0,\n",
       " 0,\n",
       " 0,\n",
       " 0,\n",
       " 0,\n",
       " 0,\n",
       " 0,\n",
       " 0,\n",
       " 0,\n",
       " 0,\n",
       " 0,\n",
       " 0.0,\n",
       " 0.020833333333333332,\n",
       " 0.041666666666666664,\n",
       " 0.0625,\n",
       " 0.08333333333333333,\n",
       " 0.10416666666666667,\n",
       " 0.125,\n",
       " 0.14583333333333334,\n",
       " 0.16666666666666666,\n",
       " 0.1875,\n",
       " 0.20833333333333334,\n",
       " 0.22916666666666666,\n",
       " 0.25,\n",
       " 0.2708333333333333,\n",
       " 0.2916666666666667,\n",
       " 0.3125,\n",
       " 0.3333333333333333,\n",
       " 0.3541666666666667,\n",
       " 0.375,\n",
       " 0.3958333333333333,\n",
       " 0.4166666666666667,\n",
       " 0.4375,\n",
       " 0.4583333333333333,\n",
       " 0.4791666666666667,\n",
       " 0.5,\n",
       " 0.5208333333333334,\n",
       " 0.5416666666666666,\n",
       " 0.5625,\n",
       " 0.5833333333333334,\n",
       " 0.6041666666666666,\n",
       " 0.625,\n",
       " 0.6458333333333334,\n",
       " 0.6666666666666666,\n",
       " 0.6875,\n",
       " 0.7083333333333334,\n",
       " 0.7291666666666666,\n",
       " 0.75,\n",
       " 0.7708333333333334,\n",
       " 0.7916666666666666,\n",
       " 0.8125,\n",
       " 0.8333333333333334,\n",
       " 0.8541666666666666,\n",
       " 0.875,\n",
       " 0.8958333333333334,\n",
       " 0.9166666666666666,\n",
       " 0.9375,\n",
       " 0.9583333333333334,\n",
       " 0.9791666666666666,\n",
       " 0,\n",
       " 0,\n",
       " 0,\n",
       " 0,\n",
       " 0,\n",
       " 0,\n",
       " 0,\n",
       " 0,\n",
       " 0,\n",
       " 0,\n",
       " 0,\n",
       " 0,\n",
       " 0,\n",
       " 0,\n",
       " 0,\n",
       " 0,\n",
       " 0,\n",
       " 0,\n",
       " 0,\n",
       " 0,\n",
       " 0,\n",
       " 0,\n",
       " 0,\n",
       " 0,\n",
       " 0,\n",
       " 0,\n",
       " 0,\n",
       " 0,\n",
       " 0,\n",
       " 0,\n",
       " 0,\n",
       " 0,\n",
       " 0,\n",
       " 0,\n",
       " 0,\n",
       " 0,\n",
       " 0,\n",
       " 0,\n",
       " 0,\n",
       " 0,\n",
       " 0,\n",
       " 0,\n",
       " 0,\n",
       " 0,\n",
       " 0,\n",
       " 0,\n",
       " 0,\n",
       " 0,\n",
       " 0,\n",
       " 0,\n",
       " 0,\n",
       " 0,\n",
       " 0,\n",
       " 0,\n",
       " 0,\n",
       " 0,\n",
       " 0,\n",
       " 0,\n",
       " 0,\n",
       " 0,\n",
       " 0,\n",
       " 0,\n",
       " 0,\n",
       " 0]"
      ]
     },
     "execution_count": 7,
     "metadata": {},
     "output_type": "execute_result"
    }
   ],
   "source": [
    "vecLength=2**7\n",
    "[0 for x in range(vecLength//8)] + [x/(3*vecLength//8) for x in range(3*vecLength//8)] + [0 for x in range(vecLength//2)]"
   ]
  },
  {
   "cell_type": "code",
   "execution_count": 36,
   "metadata": {},
   "outputs": [
    {
     "name": "stdout",
     "output_type": "stream",
     "text": [
      "y (size)= 512\n"
     ]
    },
    {
     "data": {
      "image/png": "[encoded data removed]",
      "text/plain": [
       "<Figure size 640x480 with 1 Axes>"
      ]
     },
     "metadata": {},
     "output_type": "display_data"
    }
   ],
   "source": [
    "from matplotlib import pyplot as plt\n",
    "import numpy as np\n",
    "vecLength=2**7\n",
    "fig,ax=plt.subplots()\n",
    "y=np.array(2*([0 for x in range(vecLength//4)] + ([0 for x in range(vecLength//8)] + [x/(vecLength//16) for x in range(vecLength//16)]) * 4 + [0 for x in range(vecLength)]))\n",
    "ax.plot(y)\n",
    "print(f\"y (size)= {y.size}\")\n",
    "\n",
    "# [0 for x in range(vecLength//8)] + [x for x in range(vecLength//8)] \n",
    "# ([0 for x in range(vecLength//8)] + [x/(vecLength//8) for x in range(vecLength//8)]) * 3+ [0 for x in range(vecLength//2)]"
   ]
  },
  {
   "cell_type": "code",
   "execution_count": 37,
   "metadata": {},
   "outputs": [
    {
     "name": "stdout",
     "output_type": "stream",
     "text": [
      "[(1+0j), (2+0j), (3+0j), (4+0j), (5+0j), (6+0j), (7+0j), (8+0j), (9+0j), (10+0j)]\n"
     ]
    }
   ],
   "source": [
    "complex_numbers = [complex(real, 0) for real in range(1, 11)]\n",
    "print(complex_numbers)\n"
   ]
  },
  {
   "cell_type": "code",
   "execution_count": null,
   "metadata": {},
   "outputs": [],
   "source": []
  }
 ],
 "metadata": {
  "kernelspec": {
   "display_name": "astronomy",
   "language": "python",
   "name": "python3"
  },
  "language_info": {
   "codemirror_mode": {
    "name": "ipython",
    "version": 3
   },
   "file_extension": ".py",
   "mimetype": "text/x-python",
   "name": "python",
   "nbconvert_exporter": "python",
   "pygments_lexer": "ipython3",
   "version": "3.11.6"
  },
  "orig_nbformat": 4
 },
 "nbformat": 4,
 "nbformat_minor": 2
}
