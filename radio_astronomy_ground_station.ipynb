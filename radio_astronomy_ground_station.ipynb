{
 "cells": [
  {
   "cell_type": "code",
   "execution_count": 117,
   "metadata": {},
   "outputs": [
    {
     "name": "stdout",
     "output_type": "stream",
     "text": [
      "Location Baselines:55.0\n",
      "Observing Freq and wavelength: 1420.0 MHz   21.11 cm\n",
      "Phase Ref Position: Ho=82.9106    Io=1.0775 (degrees)\n",
      "                    Ho=1.4471     Io=0.0188 (radians)\n",
      "Baselines: (55 total) [(('Bunker Hill Monument', <EarthLocation (1531612.29777372, -4463480.79182169, 4276594.14281663) m>), ('Old South Church', <EarthLocation (1530895.62456799, -4465784.05712956, 4274445.21520773) m>)), (('Bunker Hill Monument', <EarthLocation (1531612.29777372, -4463480.79182169, 4276594.14281663) m>), ('Old North Church', <EarthLocation (1532341.29648784, -4464006.34382596, 4275774.95252306) m>)), (('Bunker Hill Monument', <EarthLocation (1531612.29777372, -4463480.79182169, 4276594.14281663) m>), ('USS Constitution', <EarthLocation (1532018.05287924, -4463622.79255069, 4276265.4589869) m>)), (('Bunker Hill Monument', <EarthLocation (1531612.29777372, -4463480.79182169, 4276594.14281663) m>), ('Museum of Science', <EarthLocation (1531009.07873295, -4464336.9143563, 4275891.32031223) m>)), (('Bunker Hill Monument', <EarthLocation (1531612.29777372, -4463480.79182169, 4276594.14281663) m>), ('Kendall Square', <EarthLocation (1530181.25467191, -4464792.46413452, 4275708.7415641) m>)), (('Bunker Hill Monument', <EarthLocation (1531612.29777372, -4463480.79182169, 4276594.14281663) m>), ('Hatch Shell', <EarthLocation (1531024.4489123, -4465118.22825368, 4275066.51296814) m>)), (('Bunker Hill Monument', <EarthLocation (1531612.29777372, -4463480.79182169, 4276594.14281663) m>), ('Frog Pond', <EarthLocation (1531699.59575246, -4465029.77324221, 4274934.38135214) m>)), (('Bunker Hill Monument', <EarthLocation (1531612.29777372, -4463480.79182169, 4276594.14281663) m>), ('Public Garden', <EarthLocation (1531424.02180997, -4465292.88541647, 4274749.07482308) m>)), (('Bunker Hill Monument', <EarthLocation (1531612.29777372, -4463480.79182169, 4276594.14281663) m>), ('Public Library', <EarthLocation (1530897.02199805, -4465838.9513564, 4274387.7497815) m>)), (('Bunker Hill Monument', <EarthLocation (1531612.29777372, -4463480.79182169, 4276594.14281663) m>), ('MIT Dome', <EarthLocation (1529573.93574886, -4465485.22035692, 4275254.93238059) m>)), (('Old South Church', <EarthLocation (1530895.62456799, -4465784.05712956, 4274445.21520773) m>), ('Old North Church', <EarthLocation (1532341.29648784, -4464006.34382596, 4275774.95252306) m>)), (('Old South Church', <EarthLocation (1530895.62456799, -4465784.05712956, 4274445.21520773) m>), ('USS Constitution', <EarthLocation (1532018.05287924, -4463622.79255069, 4276265.4589869) m>)), (('Old South Church', <EarthLocation (1530895.62456799, -4465784.05712956, 4274445.21520773) m>), ('Museum of Science', <EarthLocation (1531009.07873295, -4464336.9143563, 4275891.32031223) m>)), (('Old South Church', <EarthLocation (1530895.62456799, -4465784.05712956, 4274445.21520773) m>), ('Kendall Square', <EarthLocation (1530181.25467191, -4464792.46413452, 4275708.7415641) m>)), (('Old South Church', <EarthLocation (1530895.62456799, -4465784.05712956, 4274445.21520773) m>), ('Hatch Shell', <EarthLocation (1531024.4489123, -4465118.22825368, 4275066.51296814) m>)), (('Old South Church', <EarthLocation (1530895.62456799, -4465784.05712956, 4274445.21520773) m>), ('Frog Pond', <EarthLocation (1531699.59575246, -4465029.77324221, 4274934.38135214) m>)), (('Old South Church', <EarthLocation (1530895.62456799, -4465784.05712956, 4274445.21520773) m>), ('Public Garden', <EarthLocation (1531424.02180997, -4465292.88541647, 4274749.07482308) m>)), (('Old South Church', <EarthLocation (1530895.62456799, -4465784.05712956, 4274445.21520773) m>), ('Public Library', <EarthLocation (1530897.02199805, -4465838.9513564, 4274387.7497815) m>)), (('Old South Church', <EarthLocation (1530895.62456799, -4465784.05712956, 4274445.21520773) m>), ('MIT Dome', <EarthLocation (1529573.93574886, -4465485.22035692, 4275254.93238059) m>)), (('Old North Church', <EarthLocation (1532341.29648784, -4464006.34382596, 4275774.95252306) m>), ('USS Constitution', <EarthLocation (1532018.05287924, -4463622.79255069, 4276265.4589869) m>)), (('Old North Church', <EarthLocation (1532341.29648784, -4464006.34382596, 4275774.95252306) m>), ('Museum of Science', <EarthLocation (1531009.07873295, -4464336.9143563, 4275891.32031223) m>)), (('Old North Church', <EarthLocation (1532341.29648784, -4464006.34382596, 4275774.95252306) m>), ('Kendall Square', <EarthLocation (1530181.25467191, -4464792.46413452, 4275708.7415641) m>)), (('Old North Church', <EarthLocation (1532341.29648784, -4464006.34382596, 4275774.95252306) m>), ('Hatch Shell', <EarthLocation (1531024.4489123, -4465118.22825368, 4275066.51296814) m>)), (('Old North Church', <EarthLocation (1532341.29648784, -4464006.34382596, 4275774.95252306) m>), ('Frog Pond', <EarthLocation (1531699.59575246, -4465029.77324221, 4274934.38135214) m>)), (('Old North Church', <EarthLocation (1532341.29648784, -4464006.34382596, 4275774.95252306) m>), ('Public Garden', <EarthLocation (1531424.02180997, -4465292.88541647, 4274749.07482308) m>)), (('Old North Church', <EarthLocation (1532341.29648784, -4464006.34382596, 4275774.95252306) m>), ('Public Library', <EarthLocation (1530897.02199805, -4465838.9513564, 4274387.7497815) m>)), (('Old North Church', <EarthLocation (1532341.29648784, -4464006.34382596, 4275774.95252306) m>), ('MIT Dome', <EarthLocation (1529573.93574886, -4465485.22035692, 4275254.93238059) m>)), (('USS Constitution', <EarthLocation (1532018.05287924, -4463622.79255069, 4276265.4589869) m>), ('Museum of Science', <EarthLocation (1531009.07873295, -4464336.9143563, 4275891.32031223) m>)), (('USS Constitution', <EarthLocation (1532018.05287924, -4463622.79255069, 4276265.4589869) m>), ('Kendall Square', <EarthLocation (1530181.25467191, -4464792.46413452, 4275708.7415641) m>)), (('USS Constitution', <EarthLocation (1532018.05287924, -4463622.79255069, 4276265.4589869) m>), ('Hatch Shell', <EarthLocation (1531024.4489123, -4465118.22825368, 4275066.51296814) m>)), (('USS Constitution', <EarthLocation (1532018.05287924, -4463622.79255069, 4276265.4589869) m>), ('Frog Pond', <EarthLocation (1531699.59575246, -4465029.77324221, 4274934.38135214) m>)), (('USS Constitution', <EarthLocation (1532018.05287924, -4463622.79255069, 4276265.4589869) m>), ('Public Garden', <EarthLocation (1531424.02180997, -4465292.88541647, 4274749.07482308) m>)), (('USS Constitution', <EarthLocation (1532018.05287924, -4463622.79255069, 4276265.4589869) m>), ('Public Library', <EarthLocation (1530897.02199805, -4465838.9513564, 4274387.7497815) m>)), (('USS Constitution', <EarthLocation (1532018.05287924, -4463622.79255069, 4276265.4589869) m>), ('MIT Dome', <EarthLocation (1529573.93574886, -4465485.22035692, 4275254.93238059) m>)), (('Museum of Science', <EarthLocation (1531009.07873295, -4464336.9143563, 4275891.32031223) m>), ('Kendall Square', <EarthLocation (1530181.25467191, -4464792.46413452, 4275708.7415641) m>)), (('Museum of Science', <EarthLocation (1531009.07873295, -4464336.9143563, 4275891.32031223) m>), ('Hatch Shell', <EarthLocation (1531024.4489123, -4465118.22825368, 4275066.51296814) m>)), (('Museum of Science', <EarthLocation (1531009.07873295, -4464336.9143563, 4275891.32031223) m>), ('Frog Pond', <EarthLocation (1531699.59575246, -4465029.77324221, 4274934.38135214) m>)), (('Museum of Science', <EarthLocation (1531009.07873295, -4464336.9143563, 4275891.32031223) m>), ('Public Garden', <EarthLocation (1531424.02180997, -4465292.88541647, 4274749.07482308) m>)), (('Museum of Science', <EarthLocation (1531009.07873295, -4464336.9143563, 4275891.32031223) m>), ('Public Library', <EarthLocation (1530897.02199805, -4465838.9513564, 4274387.7497815) m>)), (('Museum of Science', <EarthLocation (1531009.07873295, -4464336.9143563, 4275891.32031223) m>), ('MIT Dome', <EarthLocation (1529573.93574886, -4465485.22035692, 4275254.93238059) m>)), (('Kendall Square', <EarthLocation (1530181.25467191, -4464792.46413452, 4275708.7415641) m>), ('Hatch Shell', <EarthLocation (1531024.4489123, -4465118.22825368, 4275066.51296814) m>)), (('Kendall Square', <EarthLocation (1530181.25467191, -4464792.46413452, 4275708.7415641) m>), ('Frog Pond', <EarthLocation (1531699.59575246, -4465029.77324221, 4274934.38135214) m>)), (('Kendall Square', <EarthLocation (1530181.25467191, -4464792.46413452, 4275708.7415641) m>), ('Public Garden', <EarthLocation (1531424.02180997, -4465292.88541647, 4274749.07482308) m>)), (('Kendall Square', <EarthLocation (1530181.25467191, -4464792.46413452, 4275708.7415641) m>), ('Public Library', <EarthLocation (1530897.02199805, -4465838.9513564, 4274387.7497815) m>)), (('Kendall Square', <EarthLocation (1530181.25467191, -4464792.46413452, 4275708.7415641) m>), ('MIT Dome', <EarthLocation (1529573.93574886, -4465485.22035692, 4275254.93238059) m>)), (('Hatch Shell', <EarthLocation (1531024.4489123, -4465118.22825368, 4275066.51296814) m>), ('Frog Pond', <EarthLocation (1531699.59575246, -4465029.77324221, 4274934.38135214) m>)), (('Hatch Shell', <EarthLocation (1531024.4489123, -4465118.22825368, 4275066.51296814) m>), ('Public Garden', <EarthLocation (1531424.02180997, -4465292.88541647, 4274749.07482308) m>)), (('Hatch Shell', <EarthLocation (1531024.4489123, -4465118.22825368, 4275066.51296814) m>), ('Public Library', <EarthLocation (1530897.02199805, -4465838.9513564, 4274387.7497815) m>)), (('Hatch Shell', <EarthLocation (1531024.4489123, -4465118.22825368, 4275066.51296814) m>), ('MIT Dome', <EarthLocation (1529573.93574886, -4465485.22035692, 4275254.93238059) m>)), (('Frog Pond', <EarthLocation (1531699.59575246, -4465029.77324221, 4274934.38135214) m>), ('Public Garden', <EarthLocation (1531424.02180997, -4465292.88541647, 4274749.07482308) m>)), (('Frog Pond', <EarthLocation (1531699.59575246, -4465029.77324221, 4274934.38135214) m>), ('Public Library', <EarthLocation (1530897.02199805, -4465838.9513564, 4274387.7497815) m>)), (('Frog Pond', <EarthLocation (1531699.59575246, -4465029.77324221, 4274934.38135214) m>), ('MIT Dome', <EarthLocation (1529573.93574886, -4465485.22035692, 4275254.93238059) m>)), (('Public Garden', <EarthLocation (1531424.02180997, -4465292.88541647, 4274749.07482308) m>), ('Public Library', <EarthLocation (1530897.02199805, -4465838.9513564, 4274387.7497815) m>)), (('Public Garden', <EarthLocation (1531424.02180997, -4465292.88541647, 4274749.07482308) m>), ('MIT Dome', <EarthLocation (1529573.93574886, -4465485.22035692, 4275254.93238059) m>)), (('Public Library', <EarthLocation (1530897.02199805, -4465838.9513564, 4274387.7497815) m>), ('MIT Dome', <EarthLocation (1529573.93574886, -4465485.22035692, 4275254.93238059) m>))]\n"
     ]
    }
   ],
   "source": [
    "from astropy.coordinates import EarthLocation,SkyCoord\n",
    "from astropy.coordinates import ICRS, Galactic, FK4, FK5  # Low-level frames\n",
    "from astropy.coordinates import Angle, Latitude, Longitude  # Angles\n",
    "from astropy.coordinates import AltAz\n",
    "from astropy.time import Time, TimeDelta\n",
    "from astropy import units as u\n",
    "import numpy as np\n",
    "dt = TimeDelta(1, format='jd')\n",
    "t=Time('2023-10-01T11:00:00',format=\"isot\",scale=\"utc\")+ dt * np.linspace(0., 1., 13)\n",
    "breakout=lambda la,lo,ht:{'lat':la,'lon':lo,'height':ht*u.m}\n",
    "\n",
    "def xyz2uvwMAT(Ra,Dec):\n",
    "    sinH,cosH=(np.sin(Ra),np.cos(Ra))\n",
    "    sinI,cosI=(np.sin(Dec),np.cos(Dec))\n",
    "    return np.array([[ sinH     ,cosH     ,0],\n",
    "                     [-sinI*cosH,sinI*sinH,cosI],\n",
    "                     [cosI*cosH,-cosI*sinH,sinI]])\n",
    "\n",
    "earthSpots={\"Bunker Hill Monument\":[42.37630000,-71.06070000,30.0,1531609,-4463479,4276597,844.3,932.3,20.0],\n",
    "            \"Old South Church\":[42.35020000,-71.07800000,20.0,1530895,-4465783,4274447,-579.0,-1968.4,10.0],\n",
    "            \"Old North Church\":[42.36640000,-71.05440000,20.0,1532341,-4464003,4275779,1366.7,-166.4,10.0],\n",
    "            \"USS Constitution\":[42.37250000,-71.05660000,5.0,1532016,-4463622,4276267,1182.5,508.9,-5.0],\n",
    "            \"Museum of Science\":[42.36790000,-71.07100000,10.0,1531010,-4464333,4275895,0.0,0.0,0.0],\n",
    "            \"Kendall Square\":[42.36570000,-71.08230000,7.0,1530181,-4464795,4275706,-934.4,-252.6,-3.0],\n",
    "            \"Hatch Shell\":[42.35790000,-71.07390000,4.0,1531021,-4465118,4275068,-244.4,-1113.7,-6.0],\n",
    "            \"Frog Pond\":[42.35620000,-71.06580000,15.0,1531700,-4465028,4274936,427.7,-1302.1,5.0],\n",
    "            \"Public Garden\":[42.35400000,-71.07000000,8.0,1531421,-4465292,4274751,77.8,-1545.9,-2.0],\n",
    "            \"Public Library\":[42.34950000,-71.07820000,20.0,1530898,-4465841,4274385,-594.8,-2052.0,10.0],\n",
    "            \"MIT Dome\":[42.35990000,-71.09200000,40.0,1529573,-4465489,4275251,-1733.5,-898.5,30.0]}\n",
    "             \n",
    "print (f\"Location Baselines:{len(earthSpots)*(len(earthSpots)-1)/2}\")\n",
    "\n",
    "observingFrequency=1.42e9     #Hz\n",
    "c=299792458                   #m/s\n",
    "observingWavelength=c/observingFrequency\n",
    "print(f\"Observing Freq and wavelength: {observingFrequency/1e6} MHz   {observingWavelength*100:5.4} cm\")\n",
    "#phase reference position (RA, DEC Degrees)\n",
    "Ho=82.9106369047619\n",
    "Io=1.077503968253968\n",
    "HoRAD,IoRAD = np.array([Ho,Io])*np.pi/180.0\n",
    "print(f\"Phase Ref Position: Ho={Ho:5.4f}    Io={Io:5.4f} (degrees)\")\n",
    "print(f\"                    Ho={HoRAD:5.4f}     Io={IoRAD:5.4f} (radians)\")\n",
    "baselines=[((a,EarthLocation(**breakout(*(earthSpots[a][:3])))),(b,EarthLocation(**breakout(*(earthSpots[b][:3]))))) for i,a in enumerate(earthSpots.keys()) for j,b in enumerate(earthSpots.keys()) if j>i]\n",
    "print(f\"Baselines: ({len(baselines)} total) {baselines}\")\n",
    "#XYZp,XYZv=observing_location.get_gcrs_posvel(t[0] + dt * np.linspace(0., 1., 13))\n",
    "#XYZp\n",
    "\n"
   ]
  },
  {
   "cell_type": "code",
   "execution_count": 150,
   "metadata": {},
   "outputs": [
    {
     "data": {
      "text/latex": [
       "$(1531254, -4464632.4, 4275519.7) \\; \\mathrm{m}$"
      ],
      "text/plain": [
       "<EarthLocation (1531253.96117086, -4464632.42447563, 4275519.67901218) m>"
      ]
     },
     "execution_count": 150,
     "metadata": {},
     "output_type": "execute_result"
    }
   ],
   "source": [
    "EarthLocation.from_geocentric(**dict((ff,(x1.value+x2.value)/2) for x1,x2,ff in zip(baselines[0][0][1].to_geocentric() , baselines[0][1][1].to_geocentric(),['x','y','z'])),unit=u.m)"
   ]
  },
  {
   "cell_type": "code",
   "execution_count": 94,
   "metadata": {},
   "outputs": [
    {
     "name": "stdout",
     "output_type": "stream",
     "text": [
      "SkyCoord original: <SkyCoord (ICRS): (ra, dec) in deg\n",
      "    [(78.64041667, -8.200806), (88.79875   ,  7.407667)]>\n",
      "Transformed to AA:<SkyCoord (AltAz: obstime=2023-10-01T11:00:00.000, location=(1531612.29777372, -4463480.79182169, 4276594.14281663) m, pressure=0.0 hPa, temperature=0.0 deg_C, relative_humidity=0.0, obswl=1.0 micron): (az, alt) in deg\n",
      "    [(210.44824942, 34.56128858), (204.60635023, 52.69407351)]>\n"
     ]
    }
   ],
   "source": [
    "# Bunker Hill Monument: 42.37633621914482, -71.06072544082996\n",
    "observing_location = EarthLocation(**breakout(*(earthSpots['Bunker Hill Monument'][:3])))  \n",
    "#observing_location = EarthLocation(lat='42.37633621914482', lon='-71.06072544082996', height=30*u.m)  \n",
    "observing_time = t[0]  \n",
    "aa = AltAz(location=observing_location, obstime=observing_time)\n",
    "\n",
    "#Rigel and Betelgeuse\n",
    "coords = [\"05:14:33.700000\t-8.200806\", \"05:55:11.700000\t7.407667\"]\n",
    "c = SkyCoord(coords, unit=(u.hourangle, u.deg))\n",
    "#print(c)\n",
    "#coord = SkyCoord('4h42m', '-38d6m50.8s')\n",
    "print(f\"SkyCoord original: {c}\")\n",
    "print(f\"Transformed to AA:{c.transform_to(aa)}\")\n"
   ]
  },
  {
   "cell_type": "code",
   "execution_count": 82,
   "metadata": {},
   "outputs": [
    {
     "name": "stdout",
     "output_type": "stream",
     "text": [
      "   Position: 4474269,-1528900,4266278 m\n",
      "   Velocity: (111.49887857, 325.54613009, -0.26916088) m / s\n"
     ]
    }
   ],
   "source": [
    "XYZp,XYZv=observing_location.get_gcrs_posvel(Time.now())\n",
    "print(f\"   Position: {','.join([f'{int(xx.value)}' for xx in XYZp.xyz])} m\\n   Velocity: {XYZv}\")"
   ]
  },
  {
   "cell_type": "code",
   "execution_count": 80,
   "metadata": {},
   "outputs": [
    {
     "data": {
      "text/plain": [
       "['4462406', '-1563109', '4266306']"
      ]
     },
     "execution_count": 80,
     "metadata": {},
     "output_type": "execute_result"
    }
   ],
   "source": [
    "[f'{int(xx.value)}' for xx in XYZp.xyz]"
   ]
  },
  {
   "cell_type": "code",
   "execution_count": 92,
   "metadata": {},
   "outputs": [
    {
     "data": {
      "text/plain": [
       "array([[ 0.8660254 ,  0.5       ,  0.        ],\n",
       "       [-0.35355339,  0.61237244,  0.70710678],\n",
       "       [ 0.35355339, -0.61237244,  0.70710678]])"
      ]
     },
     "execution_count": 92,
     "metadata": {},
     "output_type": "execute_result"
    }
   ],
   "source": [
    "def xyz2uvwMAT(Ra,Dec):\n",
    "    sinH,cosH=(np.sin(Ra),np.cos(Ra))\n",
    "    sinI,cosI=(np.sin(Dec),np.cos(Dec))\n",
    "    return np.array([[ sinH     ,cosH     ,0],\n",
    "                     [-sinI*cosH,sinI*sinH,cosI],\n",
    "                     [cosI*cosH,-cosI*sinH,sinI]])\n",
    "\n",
    "xyz2uvwMAT(np.pi/3,np.pi/4)\n"
   ]
  },
  {
   "cell_type": "code",
   "execution_count": 112,
   "metadata": {},
   "outputs": [
    {
     "data": {
      "text/plain": [
       "<CartesianRepresentation (x, y, z) in m\n",
       "    [(-4572789.36164484, -1125968.34879062, 4287137.41365681),\n",
       "     (-3391091.02296403, -3271276.8499555 , 4284507.42990888),\n",
       "     (-1293244.73663035, -4535311.92940957, 4279745.11228876),\n",
       "     ( 1155622.27611058, -4577562.17527132, 4274133.38099184),\n",
       "     ( 3295823.26004819, -3386646.04968133, 4269184.00221044),\n",
       "     ( 4550821.29017248, -1283377.90053092, 4266230.32915104),\n",
       "     ( 4582539.38078458,  1165654.43420227, 4266068.10020767),\n",
       "     ( 3382433.18942446,  3300719.60883963, 4268741.06206125),\n",
       "     ( 1273792.72618119,  4546664.15871351, 4273529.17278264),\n",
       "     (-1175346.95907428,  4567849.92114224, 4279142.5654846 ),\n",
       "     (-3305225.60648325,  3358569.75005321, 4284069.02328865),\n",
       "     (-4542086.92486029,  1244584.9332676 , 4286981.36022573),\n",
       "     (-4552739.63574187, -1204629.84408784, 4287094.96278124)]>"
      ]
     },
     "execution_count": 112,
     "metadata": {},
     "output_type": "execute_result"
    }
   ],
   "source": [
    "XYZp,XYZv=observing_location.get_gcrs_posvel(Time('2023-10-01T17:00:00',format=\"isot\",scale=\"utc\") + dt * np.linspace(0., 1., 13))\n",
    "XYZp"
   ]
  },
  {
   "cell_type": "code",
   "execution_count": 108,
   "metadata": {},
   "outputs": [
    {
     "data": {
      "text/plain": [
       "<Time object: scale='utc' format='isot' value=['2023-10-01T17:00:00.000' '2023-10-01T19:00:00.000'\n",
       " '2023-10-01T21:00:00.000' '2023-10-01T23:00:00.000'\n",
       " '2023-10-02T01:00:00.000' '2023-10-02T03:00:00.000'\n",
       " '2023-10-02T05:00:00.000' '2023-10-02T07:00:00.000'\n",
       " '2023-10-02T09:00:00.000' '2023-10-02T11:00:00.000'\n",
       " '2023-10-02T13:00:00.000' '2023-10-02T15:00:00.000'\n",
       " '2023-10-02T17:00:00.000']>"
      ]
     },
     "execution_count": 108,
     "metadata": {},
     "output_type": "execute_result"
    }
   ],
   "source": [
    "import numpy as np\n",
    "t=[Time('2023-10-01T17:00:00',format=\"isot\",scale=\"utc\")]\n",
    "dt = TimeDelta(1, format='jd')\n",
    "t[0] + dt * np.linspace(0., 1., 13)"
   ]
  },
  {
   "cell_type": "markdown",
   "metadata": {},
   "source": []
  },
  {
   "cell_type": "code",
   "execution_count": 26,
   "metadata": {},
   "outputs": [
    {
     "ename": "AssertionError",
     "evalue": "",
     "output_type": "error",
     "traceback": [
      "\u001b[1;31m---------------------------------------------------------------------------\u001b[0m",
      "\u001b[1;31mAssertionError\u001b[0m                            Traceback (most recent call last)",
      "Cell \u001b[1;32mIn[26], line 38\u001b[0m\n\u001b[0;32m     35\u001b[0m     \u001b[39massert\u001b[39;00m np\u001b[39m.\u001b[39misclose(alt, \u001b[39m50\u001b[39m, rtol\u001b[39m=\u001b[39m\u001b[39m1e-3\u001b[39m)\n\u001b[0;32m     37\u001b[0m \u001b[39mif\u001b[39;00m \u001b[39m__name__\u001b[39m\u001b[39m==\u001b[39m\u001b[39m'\u001b[39m\u001b[39m__main__\u001b[39m\u001b[39m'\u001b[39m:\n\u001b[1;32m---> 38\u001b[0m     test_lla_to_ecef()\n\u001b[0;32m     39\u001b[0m     test_lla_to_enu()\n\u001b[0;32m     40\u001b[0m     test_ecef_to_lla()\n",
      "Cell \u001b[1;32mIn[26], line 7\u001b[0m, in \u001b[0;36mtest_lla_to_ecef\u001b[1;34m()\u001b[0m\n\u001b[0;32m      5\u001b[0m lat, lon, alt \u001b[39m=\u001b[39m \u001b[39m37.7749\u001b[39m, \u001b[39m-\u001b[39m\u001b[39m122.4194\u001b[39m, \u001b[39m0\u001b[39m  \u001b[39m# San Francisco coordinates\u001b[39;00m\n\u001b[0;32m      6\u001b[0m x, y, z \u001b[39m=\u001b[39m lla_to_ecef(lat, lon, alt)\n\u001b[1;32m----> 7\u001b[0m \u001b[39massert\u001b[39;00m np\u001b[39m.\u001b[39misclose(x, \u001b[39m-\u001b[39m\u001b[39m2694711.1599\u001b[39m, rtol\u001b[39m=\u001b[39m\u001b[39m1e-3\u001b[39m)\n\u001b[0;32m      8\u001b[0m \u001b[39massert\u001b[39;00m np\u001b[39m.\u001b[39misclose(y, \u001b[39m-\u001b[39m\u001b[39m4263217.8384\u001b[39m, rtol\u001b[39m=\u001b[39m\u001b[39m1e-3\u001b[39m)\n\u001b[0;32m      9\u001b[0m \u001b[39massert\u001b[39;00m np\u001b[39m.\u001b[39misclose(z, \u001b[39m3881293.4406\u001b[39m, rtol\u001b[39m=\u001b[39m\u001b[39m1e-3\u001b[39m)\n",
      "\u001b[1;31mAssertionError\u001b[0m: "
     ]
    }
   ],
   "source": []
  },
  {
   "cell_type": "code",
   "execution_count": null,
   "metadata": {},
   "outputs": [],
   "source": []
  }
 ],
 "metadata": {
  "kernelspec": {
   "display_name": "astronomy",
   "language": "python",
   "name": "python3"
  },
  "language_info": {
   "codemirror_mode": {
    "name": "ipython",
    "version": 3
   },
   "file_extension": ".py",
   "mimetype": "text/x-python",
   "name": "python",
   "nbconvert_exporter": "python",
   "pygments_lexer": "ipython3",
   "version": "3.10.4"
  },
  "orig_nbformat": 4
 },
 "nbformat": 4,
 "nbformat_minor": 2
}
