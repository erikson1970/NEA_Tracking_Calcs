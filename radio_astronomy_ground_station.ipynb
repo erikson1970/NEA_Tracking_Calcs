{
 "cells": [
  {
   "cell_type": "code",
   "execution_count": 23,
   "metadata": {},
   "outputs": [
    {
     "name": "stdout",
     "output_type": "stream",
     "text": [
      "Location Baselines:55.0\n",
      "SkyCoord original: <SkyCoord (ICRS): (ra, dec) in deg\n",
      "    [(78.64041667, -8.200806), (88.79875   ,  7.407667)]>\n",
      "Transformed to AA:<SkyCoord (AltAz: obstime=2023-10-01T11:00:00.000, location=(1531609.43575619, -4463478.90703086, 4276597.11493786) m, pressure=0.0 hPa, temperature=0.0 deg_C, relative_humidity=0.0, obswl=1.0 micron): (az, alt) in deg\n",
      "    [(210.44820847, 34.56126688), (204.60629087, 52.69404841)]>\n"
     ]
    }
   ],
   "source": [
    "from astropy.coordinates import EarthLocation,SkyCoord\n",
    "from astropy.coordinates import ICRS, Galactic, FK4, FK5  # Low-level frames\n",
    "from astropy.coordinates import Angle, Latitude, Longitude  # Angles\n",
    "from astropy.coordinates import AltAz\n",
    "from astropy.time import Time, TimeDelta\n",
    "from astropy import units as u\n",
    "t=[Time('2023-10-01T11:00:00',format=\"isot\",scale=\"utc\")]\n",
    "breakout=lambda la,lo,ht:{'lat':la,'lon':lo,'height':ht*u.m}\n",
    "earthSpots={\"Bunker Hill Monument\":[42.37633621914482,-71.06072544082996,30],\n",
    "            \"Old South Church\":[42.3502228685653, -71.07800408901761,20],\n",
    "            \"Old Nort Church\":[42.366444747295226, -71.05438366669313,20],\n",
    "            \"USS Constitution\":[42.37252416374906, -71.05661952208094,5],\n",
    "            \"Museum of Science\":[42.36794298896165, -71.07097524874244,10],\n",
    "            \"Kendall Square\":[42.36566936876248, -71.0823183860341,7],\n",
    "            \"Hatch Shell\":[42.35791694371086, -71.0739421261676,4],\n",
    "            \"Frog Pond\":[42.35622112164878, -71.06578260583416,15],\n",
    "            \"Public Garden\":[42.35402645217485, -71.07003070918034,8],\n",
    "            \"Public Library\":[42.349469803759625, -71.07819608028821,20],\n",
    "            \"MIT Dome\":[42.359854426873724, -71.09202038595475,40]}\n",
    "             \n",
    "print (f\"Location Baselines:{len(earthSpots)*(len(earthSpots)-1)/2}\")\n",
    "# Bunker Hill Monument: 42.37633621914482, -71.06072544082996\n",
    "observing_location = EarthLocation(**breakout(*(earthSpots['Bunker Hill Monument'])))  \n",
    "#observing_location = EarthLocation(lat='42.37633621914482', lon='-71.06072544082996', height=30*u.m)  \n",
    "observing_time = t[0]  \n",
    "aa = AltAz(location=observing_location, obstime=observing_time)\n",
    "\n",
    "\n",
    "#Rigel and Betelgeuse\n",
    "coords = [\"05:14:33.700000\t-8.200806\", \"05:55:11.700000\t7.407667\"]\n",
    "c = SkyCoord(coords, unit=(u.hourangle, u.deg))\n",
    "#print(c)\n",
    "#coord = SkyCoord('4h42m', '-38d6m50.8s')\n",
    "print(f\"SkyCoord original: {c}\")\n",
    "print(f\"Transformed to AA:{c.transform_to(aa)}\")\n"
   ]
  },
  {
   "cell_type": "code",
   "execution_count": 18,
   "metadata": {},
   "outputs": [
    {
     "data": {
      "text/plain": [
       "{'lat': 42.37633621914482,\n",
       " 'lon': -71.06072544082996,\n",
       " 'height': <Quantity 30. m>}"
      ]
     },
     "execution_count": 18,
     "metadata": {},
     "output_type": "execute_result"
    }
   ],
   "source": [
    "breakout(*(earthSpots['Bunker Hill Monument']))"
   ]
  },
  {
   "cell_type": "code",
   "execution_count": 2,
   "metadata": {},
   "outputs": [],
   "source": [
    "from astropy.time import TimeDelta\n"
   ]
  },
  {
   "cell_type": "code",
   "execution_count": 5,
   "metadata": {},
   "outputs": [
    {
     "data": {
      "text/plain": [
       "<Time object: scale='utc' format='isot' value=['2023-10-01T17:00:00.000' '2023-10-01T19:00:00.000'\n",
       " '2023-10-01T21:00:00.000' '2023-10-01T23:00:00.000'\n",
       " '2023-10-02T01:00:00.000' '2023-10-02T03:00:00.000'\n",
       " '2023-10-02T05:00:00.000' '2023-10-02T07:00:00.000'\n",
       " '2023-10-02T09:00:00.000' '2023-10-02T11:00:00.000'\n",
       " '2023-10-02T13:00:00.000' '2023-10-02T15:00:00.000'\n",
       " '2023-10-02T17:00:00.000']>"
      ]
     },
     "execution_count": 5,
     "metadata": {},
     "output_type": "execute_result"
    }
   ],
   "source": [
    "import numpy as np\n",
    "t=[Time('2023-10-01T17:00:00',format=\"isot\",scale=\"utc\")]\n",
    "dt = TimeDelta(1, format='jd')\n",
    "t[0] + dt * np.linspace(0., 1., 13)"
   ]
  },
  {
   "cell_type": "markdown",
   "metadata": {},
   "source": []
  },
  {
   "cell_type": "code",
   "execution_count": null,
   "metadata": {},
   "outputs": [],
   "source": []
  }
 ],
 "metadata": {
  "kernelspec": {
   "display_name": "astronomy",
   "language": "python",
   "name": "python3"
  },
  "language_info": {
   "codemirror_mode": {
    "name": "ipython",
    "version": 3
   },
   "file_extension": ".py",
   "mimetype": "text/x-python",
   "name": "python",
   "nbconvert_exporter": "python",
   "pygments_lexer": "ipython3",
   "version": "3.10.4"
  },
  "orig_nbformat": 4
 },
 "nbformat": 4,
 "nbformat_minor": 2
}
