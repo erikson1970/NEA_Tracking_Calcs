{
 "cells": [
  {
   "cell_type": "code",
   "execution_count": 248,
   "metadata": {},
   "outputs": [
    {
     "name": "stdout",
     "output_type": "stream",
     "text": [
      "Times: ['2023-12-28T00:00:00.000' '2023-12-28T01:30:00.000'\n",
      " '2023-12-28T03:00:00.000' '2023-12-28T04:30:00.000'\n",
      " '2023-12-28T06:00:00.000']\n",
      "Location Baselines:6.0\n",
      "Observing Freq and wavelength: 1420.0 MHz   21.11 cm\n",
      "Phase Ref Position: Ho=82.9106    Io=1.0775 (degrees)\n",
      "                    Ho=1.4471     Io=0.0188 (radians)\n"
     ]
    },
    {
     "ename": "AttributeError",
     "evalue": "'numpy.ndarray' object has no attribute 'x'",
     "output_type": "error",
     "traceback": [
      "\u001b[0;31m---------------------------------------------------------------------------\u001b[0m",
      "\u001b[0;31mAttributeError\u001b[0m                            Traceback (most recent call last)",
      "Cell \u001b[0;32mIn[248], line 77\u001b[0m\n\u001b[1;32m     72\u001b[0m     baselines[i][\u001b[38;5;124m\"\u001b[39m\u001b[38;5;124mXYZvTrel\u001b[39m\u001b[38;5;124m\"\u001b[39m] \u001b[38;5;241m=\u001b[39m np\u001b[38;5;241m.\u001b[39marray([[X\u001b[38;5;241m.\u001b[39mx\u001b[38;5;241m.\u001b[39mvalue\u001b[38;5;241m-\u001b[39mmeanX\u001b[38;5;241m.\u001b[39mx\u001b[38;5;241m.\u001b[39mvalue,X\u001b[38;5;241m.\u001b[39my\u001b[38;5;241m.\u001b[39mvalue\u001b[38;5;241m-\u001b[39mmeanX\u001b[38;5;241m.\u001b[39my\u001b[38;5;241m.\u001b[39mvalue,X\u001b[38;5;241m.\u001b[39mz\u001b[38;5;241m.\u001b[39mvalue\u001b[38;5;241m-\u001b[39mmeanX\u001b[38;5;241m.\u001b[39mz\u001b[38;5;241m.\u001b[39mvalue] \u001b[38;5;28;01mfor\u001b[39;00m X,meanX \u001b[38;5;129;01min\u001b[39;00m \u001b[38;5;28mzip\u001b[39m(baselines[i][\u001b[38;5;124m\"\u001b[39m\u001b[38;5;124mXYZvT\u001b[39m\u001b[38;5;124m\"\u001b[39m][\u001b[38;5;241m0\u001b[39m],meanXYZbaseline)])\n\u001b[1;32m     74\u001b[0m     \u001b[38;5;66;03m# baselines[i][\"UVWvT\"]=np.transpose(rotMAT.dot(np.transpose(np.array([[pp.x.value-meanXYZbaseline.x.value,\u001b[39;00m\n\u001b[1;32m     75\u001b[0m     \u001b[38;5;66;03m#                                                                       pp.y.value-meanXYZbaseline.y.value,\u001b[39;00m\n\u001b[1;32m     76\u001b[0m     \u001b[38;5;66;03m#                                                                       pp.z.value-meanXYZbaseline.z.value] for pp in baselines[i][\"XYZvT\"][0]]))))\u001b[39;00m\n\u001b[0;32m---> 77\u001b[0m     baselines[i][\u001b[38;5;124m\"\u001b[39m\u001b[38;5;124mUVWvT\u001b[39m\u001b[38;5;124m\"\u001b[39m]\u001b[38;5;241m=\u001b[39mnp\u001b[38;5;241m.\u001b[39mtranspose(rotMAT\u001b[38;5;241m.\u001b[39mdot(np\u001b[38;5;241m.\u001b[39mtranspose(np\u001b[38;5;241m.\u001b[39marray(\u001b[43m[\u001b[49m\u001b[43m[\u001b[49m\u001b[43mpp\u001b[49m\u001b[38;5;241;43m.\u001b[39;49m\u001b[43mx\u001b[49m\u001b[38;5;241;43m.\u001b[39;49m\u001b[43mvalue\u001b[49m\u001b[43m,\u001b[49m\n\u001b[1;32m     78\u001b[0m \u001b[43m                                                                          \u001b[49m\u001b[43mpp\u001b[49m\u001b[38;5;241;43m.\u001b[39;49m\u001b[43my\u001b[49m\u001b[38;5;241;43m.\u001b[39;49m\u001b[43mvalue\u001b[49m\u001b[43m,\u001b[49m\n\u001b[1;32m     79\u001b[0m \u001b[43m                                                                          \u001b[49m\u001b[43mpp\u001b[49m\u001b[38;5;241;43m.\u001b[39;49m\u001b[43mz\u001b[49m\u001b[38;5;241;43m.\u001b[39;49m\u001b[43mvalue\u001b[49m\u001b[43m]\u001b[49m\u001b[43m \u001b[49m\u001b[38;5;28;43;01mfor\u001b[39;49;00m\u001b[43m \u001b[49m\u001b[43mpp\u001b[49m\u001b[43m \u001b[49m\u001b[38;5;129;43;01min\u001b[39;49;00m\u001b[43m \u001b[49m\u001b[43mbaselines\u001b[49m\u001b[43m[\u001b[49m\u001b[43mi\u001b[49m\u001b[43m]\u001b[49m\u001b[43m[\u001b[49m\u001b[38;5;124;43m\"\u001b[39;49m\u001b[38;5;124;43mXYZvTrel\u001b[39;49m\u001b[38;5;124;43m\"\u001b[39;49m\u001b[43m]\u001b[49m\u001b[43m]\u001b[49m))))\n\u001b[1;32m     80\u001b[0m \u001b[38;5;66;03m#    meanUVWbaseline=meanUVWbaseline+baselines[i][\"UVWvT\"].mean(axis=0)/baselineCount\u001b[39;00m\n\u001b[1;32m     81\u001b[0m     baselines[i][\u001b[38;5;124m\"\u001b[39m\u001b[38;5;124mAzEl\u001b[39m\u001b[38;5;124m\"\u001b[39m]\u001b[38;5;241m=\u001b[39m[(ipoint\u001b[38;5;241m.\u001b[39maz\u001b[38;5;241m.\u001b[39mvalue,ipoint\u001b[38;5;241m.\u001b[39malt\u001b[38;5;241m.\u001b[39mvalue) \u001b[38;5;28;01mfor\u001b[39;00m ipoint \u001b[38;5;129;01min\u001b[39;00m phaseRefLoc\u001b[38;5;241m.\u001b[39mtransform_to(AltAz(location\u001b[38;5;241m=\u001b[39mbaselines[i][\u001b[38;5;124m\"\u001b[39m\u001b[38;5;124mBL\u001b[39m\u001b[38;5;124m\"\u001b[39m], obstime\u001b[38;5;241m=\u001b[39mt))]\n",
      "Cell \u001b[0;32mIn[248], line 77\u001b[0m, in \u001b[0;36m<listcomp>\u001b[0;34m(.0)\u001b[0m\n\u001b[1;32m     72\u001b[0m     baselines[i][\u001b[38;5;124m\"\u001b[39m\u001b[38;5;124mXYZvTrel\u001b[39m\u001b[38;5;124m\"\u001b[39m] \u001b[38;5;241m=\u001b[39m np\u001b[38;5;241m.\u001b[39marray([[X\u001b[38;5;241m.\u001b[39mx\u001b[38;5;241m.\u001b[39mvalue\u001b[38;5;241m-\u001b[39mmeanX\u001b[38;5;241m.\u001b[39mx\u001b[38;5;241m.\u001b[39mvalue,X\u001b[38;5;241m.\u001b[39my\u001b[38;5;241m.\u001b[39mvalue\u001b[38;5;241m-\u001b[39mmeanX\u001b[38;5;241m.\u001b[39my\u001b[38;5;241m.\u001b[39mvalue,X\u001b[38;5;241m.\u001b[39mz\u001b[38;5;241m.\u001b[39mvalue\u001b[38;5;241m-\u001b[39mmeanX\u001b[38;5;241m.\u001b[39mz\u001b[38;5;241m.\u001b[39mvalue] \u001b[38;5;28;01mfor\u001b[39;00m X,meanX \u001b[38;5;129;01min\u001b[39;00m \u001b[38;5;28mzip\u001b[39m(baselines[i][\u001b[38;5;124m\"\u001b[39m\u001b[38;5;124mXYZvT\u001b[39m\u001b[38;5;124m\"\u001b[39m][\u001b[38;5;241m0\u001b[39m],meanXYZbaseline)])\n\u001b[1;32m     74\u001b[0m     \u001b[38;5;66;03m# baselines[i][\"UVWvT\"]=np.transpose(rotMAT.dot(np.transpose(np.array([[pp.x.value-meanXYZbaseline.x.value,\u001b[39;00m\n\u001b[1;32m     75\u001b[0m     \u001b[38;5;66;03m#                                                                       pp.y.value-meanXYZbaseline.y.value,\u001b[39;00m\n\u001b[1;32m     76\u001b[0m     \u001b[38;5;66;03m#                                                                       pp.z.value-meanXYZbaseline.z.value] for pp in baselines[i][\"XYZvT\"][0]]))))\u001b[39;00m\n\u001b[0;32m---> 77\u001b[0m     baselines[i][\u001b[38;5;124m\"\u001b[39m\u001b[38;5;124mUVWvT\u001b[39m\u001b[38;5;124m\"\u001b[39m]\u001b[38;5;241m=\u001b[39mnp\u001b[38;5;241m.\u001b[39mtranspose(rotMAT\u001b[38;5;241m.\u001b[39mdot(np\u001b[38;5;241m.\u001b[39mtranspose(np\u001b[38;5;241m.\u001b[39marray([[\u001b[43mpp\u001b[49m\u001b[38;5;241;43m.\u001b[39;49m\u001b[43mx\u001b[49m\u001b[38;5;241m.\u001b[39mvalue,\n\u001b[1;32m     78\u001b[0m                                                                           pp\u001b[38;5;241m.\u001b[39my\u001b[38;5;241m.\u001b[39mvalue,\n\u001b[1;32m     79\u001b[0m                                                                           pp\u001b[38;5;241m.\u001b[39mz\u001b[38;5;241m.\u001b[39mvalue] \u001b[38;5;28;01mfor\u001b[39;00m pp \u001b[38;5;129;01min\u001b[39;00m baselines[i][\u001b[38;5;124m\"\u001b[39m\u001b[38;5;124mXYZvTrel\u001b[39m\u001b[38;5;124m\"\u001b[39m]]))))\n\u001b[1;32m     80\u001b[0m \u001b[38;5;66;03m#    meanUVWbaseline=meanUVWbaseline+baselines[i][\"UVWvT\"].mean(axis=0)/baselineCount\u001b[39;00m\n\u001b[1;32m     81\u001b[0m     baselines[i][\u001b[38;5;124m\"\u001b[39m\u001b[38;5;124mAzEl\u001b[39m\u001b[38;5;124m\"\u001b[39m]\u001b[38;5;241m=\u001b[39m[(ipoint\u001b[38;5;241m.\u001b[39maz\u001b[38;5;241m.\u001b[39mvalue,ipoint\u001b[38;5;241m.\u001b[39malt\u001b[38;5;241m.\u001b[39mvalue) \u001b[38;5;28;01mfor\u001b[39;00m ipoint \u001b[38;5;129;01min\u001b[39;00m phaseRefLoc\u001b[38;5;241m.\u001b[39mtransform_to(AltAz(location\u001b[38;5;241m=\u001b[39mbaselines[i][\u001b[38;5;124m\"\u001b[39m\u001b[38;5;124mBL\u001b[39m\u001b[38;5;124m\"\u001b[39m], obstime\u001b[38;5;241m=\u001b[39mt))]\n",
      "\u001b[0;31mAttributeError\u001b[0m: 'numpy.ndarray' object has no attribute 'x'"
     ]
    }
   ],
   "source": [
    "from astropy.coordinates import EarthLocation,SkyCoord,CartesianRepresentation\n",
    "from astropy.coordinates import ICRS, Galactic, FK4, FK5  # Low-level frames\n",
    "from astropy.coordinates import Angle, Latitude, Longitude  # Angles\n",
    "from astropy.coordinates import AltAz\n",
    "from astropy.time import Time, TimeDelta\n",
    "from astropy import units as u\n",
    "import numpy as np\n",
    "dt = TimeDelta(1, format='jd')\n",
    "t=Time('2023-12-28T00:00:00',format=\"isot\",scale=\"utc\")+ dt * np.linspace(0, 0.25, 5)\n",
    "breakout=lambda la,lo,ht:{'lat':la,'lon':lo,'height':ht*u.m}\n",
    "print(f\"Times: {t}\") \n",
    "def xyz2uvwMAT(Ra,Dec):\n",
    "    sinH,cosH=(np.sin(Ra),np.cos(Ra))\n",
    "    sinI,cosI=(np.sin(Dec),np.cos(Dec))\n",
    "    return np.array([[ sinH     ,cosH     ,0],\n",
    "                     [-sinI*cosH,sinI*sinH,cosI],\n",
    "                     [cosI*cosH,-cosI*sinH,sinI]])\n",
    "\n",
    "earthSpots={\"Bunker Hill Monument\":[42.37630000,-71.06070000,30.0,1531609,-4463479,4276597,844.3,932.3,20.0],\n",
    "            \"Old South Church\":[42.35020000,-71.07800000,20.0,1530895,-4465783,4274447,-579.0,-1968.4,10.0],\n",
    "            \"Old North Church\":[42.36640000,-71.05440000,20.0,1532341,-4464003,4275779,1366.7,-166.4,10.0],\n",
    "            \"USS Constitution\":[42.37250000,-71.05660000,5.0,1532016,-4463622,4276267,1182.5,508.9,-5.0]\n",
    "            }# \"Museum of Science\":[42.36790000,-71.07100000,10.0,1531010,-4464333,4275895,0.0,0.0,0.0],\n",
    "            # \"Kendall Square\":[42.36570000,-71.08230000,7.0,1530181,-4464795,4275706,-934.4,-252.6,-3.0],\n",
    "            # \"Hatch Shell\":[42.35790000,-71.07390000,4.0,1531021,-4465118,4275068,-244.4,-1113.7,-6.0],\n",
    "            # \"Frog Pond\":[42.35620000,-71.06580000,15.0,1531700,-4465028,4274936,427.7,-1302.1,5.0],\n",
    "            # \"Public Garden\":[42.35400000,-71.07000000,8.0,1531421,-4465292,4274751,77.8,-1545.9,-2.0],\n",
    "            # \"Public Library\":[42.34950000,-71.07820000,20.0,1530898,-4465841,4274385,-594.8,-2052.0,10.0],\n",
    "            # \"MIT Dome\":[42.35990000,-71.09200000,40.0,1529573,-4465489,4275251,-1733.5,-898.5,30.0]}\n",
    "             \n",
    "print (f\"Location Baselines:{len(earthSpots)*(len(earthSpots)-1)/2}\")\n",
    "\n",
    "observingFrequency=1.42e9     #Hz\n",
    "c=299792458                   #m/s\n",
    "observingWavelength=c/observingFrequency\n",
    "print(f\"Observing Freq and wavelength: {observingFrequency/1e6} MHz   {observingWavelength*100:5.4} cm\")\n",
    "#phase reference position (RA, DEC Degrees)\n",
    "Ho=82.9106369047619\n",
    "Io=1.077503968253968\n",
    "HoRAD,IoRAD = np.array([Ho,Io])*np.pi/180.0\n",
    "phaseRefLoc=SkyCoord(HoRAD,IoRAD,unit=\"rad\",frame=\"icrs\").transform_to(\"galactic\")\n",
    "rotMAT=xyz2uvwMAT(HoRAD,IoRAD)\n",
    "print(f\"Phase Ref Position: Ho={Ho:5.4f}    Io={Io:5.4f} (degrees)\")\n",
    "print(f\"                    Ho={HoRAD:5.4f}     Io={IoRAD:5.4f} (radians)\")\n",
    "baselines=[{\"P1\":(a,EarthLocation(**breakout(*(earthSpots[a][:3])))),\n",
    "            \"P2\":(b,EarthLocation(**breakout(*(earthSpots[b][:3]))))}\n",
    "            for i,a in enumerate(earthSpots.keys()) for j,b in enumerate(earthSpots.keys()) if j>i]\n",
    "meanXYZbaseline=np.zeros((len(t),len(baselines)))\n",
    "meanUVWbaseline=np.zeros((len(t),len(baselines)))\n",
    "baselineCount=len(baselines)\n",
    "for i,bl in enumerate(baselines):\n",
    "    #center of baseline in XYZ wavelengths for the two points\n",
    "    baselines[i][\"BL\"]= EarthLocation.from_geocentric(**dict((ff,(x1.value+x2.value)/2/observingWavelength) \n",
    "                                                         for x1,x2,ff in zip(baselines[i][\"P1\"][1].to_geocentric() , \n",
    "                                                                             baselines[i][\"P2\"][1].to_geocentric(),['x','y','z'])),\n",
    "                                                                             unit=observingWavelength*u.m)\n",
    "\n",
    "    baselines[i][\"D\"]=np.array([x2.value-x1.value for x1,x2 in zip(baselines[i][\"P1\"][1].to_geocentric() ,baselines[i][\"P2\"][1].to_geocentric())]+[0.,0.,0.,0.]);\n",
    "    baselines[i][\"D\"][3]=np.sqrt(np.sum([xx**2 for xx in baselines[i][\"D\"]]))\n",
    "\n",
    "    baselines[i][\"XYZvT\"]=baselines[i][\"BL\"].get_gcrs_posvel(t)\n",
    "\n",
    "meanXYZbaseline=(lambda x,lll : EarthLocation.from_geocentric(x=x[:,0],\n",
    "                                              y=x[:,1],\n",
    "                                              z=x[:,2],\n",
    "                                              unit=lll)) (np.array([[[x.x.value,\n",
    "                                                                      x.y.value,\n",
    "                                                                      x.z.value] for x in baselines[j][\"BL\"].get_gcrs_posvel(t)[0]] \n",
    "                                                                      for j in range(len(baselines))]).mean(axis=0),observingWavelength*u.m)\n",
    "\n",
    "for i,bl in enumerate(baselines):\n",
    "    baselines[i][\"XYZvTrel\"] = np.array([[X.x.value-meanX.x.value,X.y.value-meanX.y.value,X.z.value-meanX.z.value] for X,meanX in zip(baselines[i][\"XYZvT\"][0],meanXYZbaseline)])\n",
    "    baselines[i][\"AzEl\"]=[(ipoint.az.value,ipoint.alt.value) for ipoint in phaseRefLoc.transform_to(AltAz(location=baselines[i][\"BL\"], obstime=t))]\n",
    "    baselines[i][\"UVWvT\"]=np.transpose(rotMAT.dot(np.transpose(np.array([[pp.x.value,\n",
    "                                                                          pp.y.value,\n",
    "                                                                          pp.z.value] for pp in baselines[i][\"XYZvT\"]]))))\n",
    "\n",
    "meanUVWbaseline=EarthLocation.from_geocentric(x=meanUVWbaseline[0],y=meanUVWbaseline[1],z=meanUVWbaseline[2],unit=observingWavelength*u.m)\n",
    "\n",
    "print(f\"Baselines: ({baselineCount} total) (meanXYZbaseline={meanXYZbaseline}\\n\" + '\\t'*3 + f\" meanUVWbaseline={meanUVWbaseline})\")\n",
    "#print(baselines)\n",
    "for i,bl in enumerate(baselines):\n",
    "    print(f\"{i:4d} #####################\\t{str(bl['P1'][0])}->{str(bl['P2'][0])}\" +\n",
    "          f\"\\n\\tDxyz--> {bl['D'][:4]}\" +\n",
    "          f\"\\n\\tXYZ--> {bl['XYZvT'][0]}\\n\\tUVW--> {bl['UVWvT']}\" +\n",
    "          f\"\\n\\tAzEl--> {bl['AzEl']}\")\n",
    "        #   f\"\\n\\t\\t\\t{str(c[:2])}\"+\n",
    "        #   f\"\\n\\t\\t\\t\\t{str(c[-1])}\")\n",
    "# for i,bl in enumerate(baselines):\n",
    "#     print(f\"{i:4d} #####################\\n\\t{str(a)} \\n\\t\\t--> {str(b)}\"+\n",
    "#           f\"\\n\\t\\t\\t{str(c[:2])}\"+\n",
    "#           f\"\\n\\t\\t\\t\\t{str(c[-1])}\")\n",
    "#XYZp,XYZv=observing_location.get_gcrs_posvel(t[0] + dt * np.linspace(0., 1., 13))\n",
    "#XYZp\n",
    "\n"
   ]
  },
  {
   "cell_type": "code",
   "execution_count": 178,
   "metadata": {},
   "outputs": [
    {
     "name": "stdout",
     "output_type": "stream",
     "text": [
      "2\n",
      "2649.232571410716\n"
     ]
    },
    {
     "data": {
      "text/plain": [
       "array([ 1445.67191985,  1777.7133036 ,  1329.73731533,  1654.02005189,\n",
       "        1359.32111503, -1560.41564707,  2649.23257141])"
      ]
     },
     "execution_count": 178,
     "metadata": {},
     "output_type": "execute_result"
    }
   ],
   "source": [
    "print(i)\n",
    "baselines[i][\"P1\"][1].to_geocentric()\n",
    "dd=np.array([x2.value-x1.value for x1,x2 in zip(baselines[i][\"P1\"][1].to_geocentric() ,baselines[i][\"P2\"][1].to_geocentric())]+[0.,0.,0.,0.])\n",
    "dd[-1]=np.sqrt(np.sum([xx**2 for xx in dd]))\n",
    "dd[3:6]=rotMAT @ dd[0:3]\n",
    "print(np.sqrt(np.sum([xx**2 for xx in dd[3:6]])))\n",
    "dd"
   ]
  },
  {
   "cell_type": "code",
   "execution_count": 251,
   "metadata": {},
   "outputs": [
    {
     "data": {
      "text/plain": [
       "array([[ 1888.3770335 ,  2600.01479466,  2913.26317039,  2780.17483005,\n",
       "         2221.1209176 ],\n",
       "       [-1232.08271051, -1216.63873159, -1196.37975815, -1174.4066999 ,\n",
       "        -1154.08283014],\n",
       "       [ 2208.93251068,  1312.66588562,   212.01801168,  -924.5405781 ,\n",
       "        -1923.04268115]])"
      ]
     },
     "execution_count": 251,
     "metadata": {},
     "output_type": "execute_result"
    }
   ],
   "source": [
    "rotMAT @ np.transpose(baselines[i][\"XYZvTrel\"])"
   ]
  },
  {
   "cell_type": "code",
   "execution_count": 236,
   "metadata": {},
   "outputs": [
    {
     "name": "stdout",
     "output_type": "stream",
     "text": [
      "[(20333967.0488848 ,  9391883.44087659, 20205262.33751393)\n",
      " (15178167.44590676, 16456808.92947658, 20216997.53876969)\n",
      " ( 7706315.37823333, 21002873.88233608, 20234186.63089259)\n",
      " ( -937910.92561406, 22334235.45422314, 20254198.73534471)\n",
      " (-9431383.91858025, 20247108.98067215, 20273970.79866285)] 0.211121 m\n"
     ]
    },
    {
     "data": {
      "text/latex": [
       "$[(20333967, 9391883.4, 20205262),~(15178167, 16456809, 20216998),~(7706315.4, 21002874, 20234187),~(-937910.93, 22334235, 20254199),~(-9431383.9, 20247109, 20273971)] \\; \\mathrm{0.21112145\\,m}$"
      ],
      "text/plain": [
       "<EarthLocation [(20333967.0488848 ,  9391883.44087659, 20205262.33751393),\n",
       "                (15178167.44590676, 16456808.92947658, 20216997.53876969),\n",
       "                ( 7706315.37823333, 21002873.88233608, 20234186.63089259),\n",
       "                ( -937910.92561406, 22334235.45422314, 20254198.73534471),\n",
       "                (-9431383.91858025, 20247108.98067215, 20273970.79866285)] 0.211121 m>"
      ]
     },
     "execution_count": 236,
     "metadata": {},
     "output_type": "execute_result"
    }
   ],
   "source": [
    "kkk=np.array([[[x.x.value,x.y.value,x.z.value] for x in baselines[j][\"BL\"].get_gcrs_posvel(t)[0]] for j in range(len(baselines))]).mean(axis=0)\n",
    "print(EarthLocation.from_geocentric(x=kk[:,0],y=kk[:,1],z=kk[:,2],unit=observingWavelength*u.m))\n",
    "(lambda x,lll : EarthLocation.from_geocentric(x=x[:,0],\n",
    "                                              y=x[:,1],\n",
    "                                              z=x[:,2],\n",
    "                                              unit=lll)) (np.array([[[x.x.value,\n",
    "                                                                      x.y.value,\n",
    "                                                                      x.z.value] for x in baselines[j][\"BL\"].get_gcrs_posvel(t)[0]] \n",
    "                                                                      for j in range(len(baselines))]).mean(axis=0),observingWavelength*u.m)\n",
    "#EarthLocation.from_geocentric(x=kk[0].x.value,kk[0].y.value,kk[0].z.value,unit=observingWavelength*u.m)"
   ]
  },
  {
   "cell_type": "code",
   "execution_count": 224,
   "metadata": {},
   "outputs": [
    {
     "name": "stdout",
     "output_type": "stream",
     "text": [
      "['2023-12-28T00:00:00.000' '2023-12-28T01:30:00.000'\n",
      " '2023-12-28T03:00:00.000' '2023-12-28T04:30:00.000'\n",
      " '2023-12-28T06:00:00.000']\n",
      "[[[20336116.42066799  9389901.84982033 20204072.01138791]\n",
      "  [15180912.38384121 16455804.71227196 20215805.79970224]\n",
      "  [ 7709235.30778727 21003000.74357742 20232994.44966124]\n",
      "  [ -935263.36404946 22335473.97011966 20253007.15043433]\n",
      "  [-9429414.39464731 20249269.572148   20272780.75731273]]\n",
      "\n",
      " [[20331583.78908942  9392874.61416668 20207231.66249878]\n",
      "  [15175586.66675653 16456808.09942158 20218967.35371735]\n",
      "  [ 7703932.80373919 21001881.18557838 20236156.01774295]\n",
      "  [ -939729.90960203 22332402.84736293 20256166.84153765]\n",
      "  [-9432360.19211303 20244716.98104934 20275936.96763648]]\n",
      "\n",
      " [[20330761.66299638  9392019.75356548 20208395.26769532]\n",
      "  [15175155.66956008 16455702.20087883 20220130.05954581]\n",
      "  [ 7703959.31848858 21000693.5289916  20237317.66476924]\n",
      "  [ -939249.52886111 22331315.22691623 20257327.4323878 ]\n",
      "  [-9431499.06227087 20243895.87890913 20277096.66659917]]\n",
      "\n",
      " [[20337172.43477323  9391747.12818771 20202129.40733253]\n",
      "  [15181179.22225344 16457915.65807434 20213865.01799356]\n",
      "  [ 7708671.43797808 21005054.23568058 20231055.59701595]\n",
      "  [ -936572.32236702 22337155.68153004 20251070.03830163]\n",
      "  [-9431268.77488963 20250322.08243518 20270844.93072654]]\n",
      "\n",
      " [[20336350.30868018  9390892.26758651 20203293.01252907]\n",
      "  [15180748.22505698 16456809.75953159 20215027.72382203]\n",
      "  [ 7708697.95272747 21003866.57909379 20232217.24404224]\n",
      "  [ -936091.94162609 22336068.06108334 20252230.62915178]\n",
      "  [-9430407.64504747 20249500.98029497 20272004.62968922]]\n",
      "\n",
      " [[20331817.6771016   9393865.03193286 20206452.66363994]\n",
      "  [15175422.5079723  16457813.1466812  20218189.27783714]\n",
      "  [ 7703395.44867939 21002747.02109475 20235378.81212396]\n",
      "  [ -940558.48717866 22332996.93832662 20255390.3202551 ]\n",
      "  [-9433353.44251319 20244948.38919631 20275160.84001298]]]\n",
      "[[20333967.0488848   9391883.44087659 20205262.33751393]\n",
      " [15178167.44590676 16456808.92947658 20216997.53876969]\n",
      " [ 7706315.37823333 21002873.88233608 20234186.63089259]\n",
      " [ -937910.92561406 22334235.45422314 20254198.73534471]\n",
      " [-9431383.91858025 20247108.98067215 20273970.79866285]]\n"
     ]
    }
   ],
   "source": [
    "print(t)\n",
    "hh=np.array([[[x.x.value,x.y.value,x.z.value] for x in baselines[j][\"BL\"].get_gcrs_posvel(t)[0]] for j in range(len(baselines))])\n",
    "print(hh)\n",
    "hh.mean(axis=0)\n",
    "print(np.array([[[x.x.value,x.y.value,x.z.value] for x in baselines[j][\"BL\"].get_gcrs_posvel(t)[0]] for j in range(len(baselines))]).mean(axis=0))"
   ]
  },
  {
   "cell_type": "code",
   "execution_count": 219,
   "metadata": {},
   "outputs": [
    {
     "data": {
      "text/plain": [
       "<CartesianRepresentation (x, y, z) in 0.211121 m\n",
       "    [(20331583.78908942,  9392874.61416668, 20207231.66249878),\n",
       "     (15175586.66675653, 16456808.09942158, 20218967.35371735),\n",
       "     ( 7703932.80373919, 21001881.18557838, 20236156.01774295),\n",
       "     ( -939729.90960203, 22332402.84736293, 20256166.84153765),\n",
       "     (-9432360.19211303, 20244716.98104934, 20275936.96763648)]>"
      ]
     },
     "execution_count": 219,
     "metadata": {},
     "output_type": "execute_result"
    }
   ],
   "source": [
    "baselines[1][\"BL\"].get_gcrs_posvel(t)[0]"
   ]
  },
  {
   "cell_type": "code",
   "execution_count": 60,
   "metadata": {},
   "outputs": [
    {
     "name": "stdout",
     "output_type": "stream",
     "text": [
      "SkyCoord original: <SkyCoord (ICRS): (ra, dec) in deg\n",
      "    [(78.64041667, -8.200806), (88.79875   ,  7.407667)]>\n",
      "Transformed to AA:<SkyCoord (AltAz: obstime=2023-10-01T11:00:00.000, location=(1531612.29777372, -4463480.79182169, 4276594.14281663) m, pressure=0.0 hPa, temperature=0.0 deg_C, relative_humidity=0.0, obswl=1.0 micron): (az, alt) in deg\n",
      "    [(210.44824942, 34.56128858), (204.60635023, 52.69407351)]>\n"
     ]
    }
   ],
   "source": [
    "# Bunker Hill Monument: 42.37633621914482, -71.06072544082996\n",
    "observing_location = EarthLocation(**breakout(*(earthSpots['Bunker Hill Monument'][:3])))  \n",
    "#observing_location = EarthLocation(lat='42.37633621914482', lon='-71.06072544082996', height=30*u.m)  \n",
    "observing_time = t[0]  \n",
    "aa = AltAz(location=observing_location, obstime=observing_time)\n",
    "\n",
    "#Rigel and Betelgeuse\n",
    "coords = [\"05:14:33.700000\t-8.200806\", \"05:55:11.700000\t7.407667\"]\n",
    "c = SkyCoord(coords, unit=(u.hourangle, u.deg))\n",
    "#print(c)\n",
    "#coord = SkyCoord('4h42m', '-38d6m50.8s')\n",
    "print(f\"SkyCoord original: {c}\")\n",
    "print(f\"Transformed to AA:{c.transform_to(aa)}\")\n"
   ]
  },
  {
   "cell_type": "code",
   "execution_count": 61,
   "metadata": {},
   "outputs": [
    {
     "name": "stdout",
     "output_type": "stream",
     "text": [
      "   Position: -819434,4645631,4278363 m\n",
      "   Velocity: (-338.75383024, -60.47792874, 0.7880451) m / s\n"
     ]
    }
   ],
   "source": [
    "XYZp,XYZv=observing_location.get_gcrs_posvel(Time.now())\n",
    "print(f\"   Position: {','.join([f'{int(xx.value)}' for xx in XYZp.xyz])} m\\n   Velocity: {XYZv}\")"
   ]
  },
  {
   "cell_type": "code",
   "execution_count": 62,
   "metadata": {},
   "outputs": [
    {
     "data": {
      "text/plain": [
       "<CartesianRepresentation (x, y, z) in m\n",
       "    (-819434.58185238, 4645631.09883387, 4278363.37068726)>"
      ]
     },
     "execution_count": 62,
     "metadata": {},
     "output_type": "execute_result"
    }
   ],
   "source": [
    "XYZp.transform"
   ]
  },
  {
   "cell_type": "code",
   "execution_count": 112,
   "metadata": {},
   "outputs": [
    {
     "data": {
      "text/plain": [
       "<CartesianRepresentation (x, y, z) in m\n",
       "    [(-4572789.36164484, -1125968.34879062, 4287137.41365681),\n",
       "     (-3391091.02296403, -3271276.8499555 , 4284507.42990888),\n",
       "     (-1293244.73663035, -4535311.92940957, 4279745.11228876),\n",
       "     ( 1155622.27611058, -4577562.17527132, 4274133.38099184),\n",
       "     ( 3295823.26004819, -3386646.04968133, 4269184.00221044),\n",
       "     ( 4550821.29017248, -1283377.90053092, 4266230.32915104),\n",
       "     ( 4582539.38078458,  1165654.43420227, 4266068.10020767),\n",
       "     ( 3382433.18942446,  3300719.60883963, 4268741.06206125),\n",
       "     ( 1273792.72618119,  4546664.15871351, 4273529.17278264),\n",
       "     (-1175346.95907428,  4567849.92114224, 4279142.5654846 ),\n",
       "     (-3305225.60648325,  3358569.75005321, 4284069.02328865),\n",
       "     (-4542086.92486029,  1244584.9332676 , 4286981.36022573),\n",
       "     (-4552739.63574187, -1204629.84408784, 4287094.96278124)]>"
      ]
     },
     "execution_count": 112,
     "metadata": {},
     "output_type": "execute_result"
    }
   ],
   "source": [
    "XYZp,XYZv=observing_location.get_gcrs_posvel(Time('2023-10-01T17:00:00',format=\"isot\",scale=\"utc\") + dt * np.linspace(0., 1., 13))\n",
    "XYZp"
   ]
  },
  {
   "cell_type": "code",
   "execution_count": 108,
   "metadata": {},
   "outputs": [
    {
     "data": {
      "text/plain": [
       "<Time object: scale='utc' format='isot' value=['2023-10-01T17:00:00.000' '2023-10-01T19:00:00.000'\n",
       " '2023-10-01T21:00:00.000' '2023-10-01T23:00:00.000'\n",
       " '2023-10-02T01:00:00.000' '2023-10-02T03:00:00.000'\n",
       " '2023-10-02T05:00:00.000' '2023-10-02T07:00:00.000'\n",
       " '2023-10-02T09:00:00.000' '2023-10-02T11:00:00.000'\n",
       " '2023-10-02T13:00:00.000' '2023-10-02T15:00:00.000'\n",
       " '2023-10-02T17:00:00.000']>"
      ]
     },
     "execution_count": 108,
     "metadata": {},
     "output_type": "execute_result"
    }
   ],
   "source": [
    "import numpy as np\n",
    "t=[Time('2023-10-01T17:00:00',format=\"isot\",scale=\"utc\")]\n",
    "dt = TimeDelta(1, format='jd')\n",
    "t[0] + dt * np.linspace(0., 1., 13)"
   ]
  },
  {
   "cell_type": "markdown",
   "metadata": {},
   "source": []
  },
  {
   "cell_type": "code",
   "execution_count": 222,
   "metadata": {},
   "outputs": [
    {
     "data": {
      "text/plain": [
       "array([0.    , 0.0625, 0.125 , 0.1875, 0.25  ])"
      ]
     },
     "execution_count": 222,
     "metadata": {},
     "output_type": "execute_result"
    }
   ],
   "source": [
    "np.linspace(0, 0.25, 5)"
   ]
  },
  {
   "cell_type": "code",
   "execution_count": null,
   "metadata": {},
   "outputs": [],
   "source": []
  }
 ],
 "metadata": {
  "kernelspec": {
   "display_name": "astronomy",
   "language": "python",
   "name": "python3"
  },
  "language_info": {
   "codemirror_mode": {
    "name": "ipython",
    "version": 3
   },
   "file_extension": ".py",
   "mimetype": "text/x-python",
   "name": "python",
   "nbconvert_exporter": "python",
   "pygments_lexer": "ipython3",
   "version": "3.11.6"
  },
  "orig_nbformat": 4
 },
 "nbformat": 4,
 "nbformat_minor": 2
}
