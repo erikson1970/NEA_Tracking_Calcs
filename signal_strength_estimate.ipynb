{
 "cells": [
  {
   "cell_type": "markdown",
   "metadata": {},
   "source": [
    "<H1> The punch you don’t see is the punch that hurts</H1>\n",
    " > heavyweight boxer Willie Pastrano (1935-1997)\n",
    "\n",
    "# Overview\n",
    "\n",
    "   Known potentially hazardous asteroids (PHAs) are tracked by a world-wide volunteer network of optical telescopes organized by ESA and JPL.  This PHAs observing service works for objects that are known and that due to combination of size, proximity and surface characteristics have a sufficiently high optical albedo to be optically detectable.  The analysis here presents an initial feasibility assessment of a radio frequency (RF) sensor network to detect unknown NEOs and PHAs as well as track known PHAs from the night side of earth (NSoE) using a reference signal from the day side of earth(DSoE).  One of the LibreSpace projects, SATNOGS, interconnects a world-wide network of satellite signal tracking enthusiasts with antennas of modest capabilities.  The analysis will pose and answer the question of what is the sized of a network of \"enthusiast-grade\" [1](#Footnotes) networked radio telescopes that could detect PHAs in the range not visible by ESA and JPL observing volunteers.  \n",
    "   \n",
    "\n",
    "# Background \n",
    "\n",
    "   The network would use DSoE and NSoE signals to develop passive radar track on NSoE near-earth objects (NEOs) that cross or reside outside of Earth Orbit. NEOs are classified in one of four classes according to their perihelion distance (q), aphelion distance (Q) and their semi-major axes (a): Atens, Apollos, Amors and Atiras[4]. The analysis here examines addresses the former three classes(note 1) because of their orbits location with respect to the earth.  The reference signal would be developed based on specific discrete solar RF radiation sources as isotropic radiators.\n",
    "\n",
    "   notes:\n",
    "   1. Atiras (a < 1 AU, Q < 0.983 AU) don't ever cross outside earth orbit and wouldn't be detectable through backscatter. Forward scatter investigation could complement this work at a later time.\n",
    "\n",
    "# Geometry\n",
    "   * <img src='astroid_detection_geometry.svg' width=\"600\" height=\"400\">\n",
    "\n",
    "# Footnotes\n",
    "A. <2 meter Az/El Rotator antenna, < 2Ghz Center Frequency, < 2 MHz BW,  < 2 Mbps Internet uplink, , <$2000 total cost, GPS Disciplined Oscillator \n",
    "\n",
    "\n",
    "# References\n",
    "1. [H. D. Griffiths, Bistatic and Multistatic Radar](http://www.ittc.ku.edu/~callen/energy_harvesting/Griffiths2003pp9.pdf)\n",
    "2. [M.K. Shepard et al., Radar observations and shape model of asteroid 16 Psyche, Icarus (2016)](http://dx.doi.org/10.1016/j.icarus.2016.08.011)\n",
    "3. [Near Earth Objects - Dynamic Site](https://newton.spacedys.com/neodys/)\n",
    "4. [Center for Near Earth Objects Website](https://cneos.jpl.nasa.gov/about/neo_groups.html)\n",
    "5. [W. N. CHRISTIANSEN et al., The Distribution of Radio Brightness over the Solar Disat at a Wavelength of 21 Centimeters]()"
   ]
  },
  {
   "cell_type": "code",
   "execution_count": 3,
   "metadata": {},
   "outputs": [
    {
     "name": "stdout",
     "output_type": "stream",
     "text": [
      "Multi-Antenna System Parameters: \n",
      "\tSite to Site Syncronization:50.0 microseconds\n",
      "\t\tstate of the art for 2022 using prosumer-grade \n",
      "\t\tGNSS/GPS TXCO master oscillator\n",
      "Antenna System Calcs: \n",
      "\tAntenna Gain: 30 dBi\n",
      "\tCable & Connector Loss: 6 dB\n",
      "\tRX Sensitivity  Prxs  -115 dBm\n",
      "Rx Sensitivt Calcs:\n",
      "\tNoise Figure: 5 dB\n",
      "\tTemperatures  Operating(To): 290 °K  \tEffective(Te): 627 °K  \tAntenna(Tant): 300 °K\n",
      "\tReceive Bandwidth\t(BWRX): 10 MHz \tNoise Power (at RX) : -98.9 dB\n",
      "\tRequired SNR: -16.1 dB\n"
     ]
    }
   ],
   "source": [
    "import numpy as np\n",
    "\n",
    "#System-wide Description\n",
    "Terr = 50e-6           # seconds    \n",
    "print(f\"Multi-Antenna System Parameters: \\n\\tSite to Site Syncronization:{Terr * 1e6:.1f} microseconds\")\n",
    "print(\"\\t\\tstate of the art for 2022 using prosumer-grade \\n\\t\\tGNSS/GPS TXCO master oscillator\")\n",
    "\n",
    "#Receiver Params\n",
    "#Receiver System Calculations\tVariable\tUnits\n",
    "#RX antenna gain\tGR\tdBi\n",
    "GR = 30                #dBi\n",
    "\n",
    "#RX connector loss\tLConR1\tdB\n",
    "LConR1 = 2             #dB\n",
    "\n",
    "#RX cable loss\tLCabR\tdB\n",
    "LCabR = 2             #dB\n",
    "\n",
    "#RX connector loss (remote antenna)\tLConR2\tdB\n",
    "LConR2 = 2             #dB\n",
    "\n",
    "#RX Sensitivity  Prxs  dBm\n",
    "Prxs = -115            #dBm\n",
    "\n",
    "print(f\"Antenna System Calcs: \\n\\tAntenna Gain: {GR} dBi\")\n",
    "print(f\"\\tCable & Connector Loss: {LConR1+LCabR+LConR2} dB\")\n",
    "print(f\"\\tRX Sensitivity  Prxs  {Prxs} dBm\")\n",
    "\n",
    "## SENSOR PARARMS\n",
    "#Receiver Sensitivity Calculations\t\n",
    "#RX Noise Figure\tNF\n",
    "NF=5                    #dB\n",
    "\n",
    "#Operating Temperature\tT0\n",
    "T0 = 290                #°K\n",
    "\n",
    "#Effective Noise Temperature\tTe\n",
    "#  Te = T0(NF - 1)     \n",
    "Te =T0*(np.power(10,(NF/10))-1)\n",
    "\n",
    "#Boltzmann's constant\tk\n",
    "k=1.38E-23             #J/K\n",
    "\n",
    "#Receive Bandwidth\tBWRX\n",
    "BWRX = 10              #MHz\n",
    "\n",
    "#Baseline Length (meters)\n",
    "BB = 50\n",
    "\n",
    "#Rough Models for Active vs Quiet Sun returns Jansky's vs GHz\n",
    "# Active Sun (freq in GHz) - returns NNNN Jy\n",
    "def activeSun(freq : float)-> float:\n",
    "    \"\"\"returns active Sun Jy for a given freq in GHz\"\"\"\n",
    "    return np.power(10.0,np.dot([np.power(np.log10(freq),ii) for ii in range(6)], np.array([7.575389683, -1.365882626, -0.3453708136, 0.8663449396, 0.1143669567, -0.1554750744])))\n",
    "# Quiet Sun (freq in GHz) - returns NNNN Jy\n",
    "def quietSun(freq : float)-> float:\n",
    "    \"\"\"returns quiet Sun Jy for a given freq in GHz\"\"\"\n",
    "    return np.power(10.0,np.dot([np.power(np.log10(freq),ii) for ii in range(2)], np.array([5.44602420106103, 1.088711467])))\n",
    "# Active Sun (freq in GHz) - returns NNNN Jy\n",
    "def activeSundBmJy(freq : float)-> float:\n",
    "    \"\"\"returns active Sun dBm for a given freq in GHz\"\"\"\n",
    "    return 10*np.dot([np.power(np.log10(freq),ii) for ii in range(6)], np.array([7.575389683, -1.365882626, -0.3453708136, 0.8663449396, 0.1143669567, -0.1554750744]))-230\n",
    "# Quiet Sun (freq in GHz) - returns NNNN Jy\n",
    "def quietSundBmJy(freq : float)-> float:\n",
    "    \"\"\"returns quiet Sun dBm for a given freq in GHz\"\"\"\n",
    "    return 10.0*np.dot([np.power(np.log10(freq),ii) for ii in range(2)], np.array([5.44602420106103, 1.088711467]))-230\n",
    "\n",
    "def spreadingLoss(freq : float, distance : float) -> float:\n",
    "    \"\"\"returns friis equation spreading loss in dB for a given freq in GHz and range in meters\"\"\"\n",
    "    return 20 * (np.log10(freq/1000.0) + np.log10[distance]) - 27.55  # -(20*(np.log10(distance)+np.log10(freq))-27.55)\n",
    "\n",
    "# Friis Equ for solar Radiation relative to 1 AU\n",
    "#distAU is in solar orbitting range in AU\n",
    "spreadingLossDBAU=lambda distAU: -10*np.log10(distAU)\n",
    "\n",
    "#Antenna Temperature\tTAnt\n",
    "Tant = 300             #°k\n",
    "\n",
    "#Noise Power (at RX)\tPn\n",
    "# Pn = k(TAnt + Te)BWRX\n",
    "Pn = k * (Tant +Te) * BWRX\n",
    "Pn =10*np.log10(k*(Tant+Te)*(BWRX*1000000))+30\n",
    "\n",
    "#Required Signal to Noise Ratio\tSNRRX\n",
    "SNRRX = Prxs-Pn\n",
    "\n",
    "print(f\"Rx Sensitivt Calcs:\\n\\tNoise Figure: {NF} dB\")\n",
    "print(f\"\\tTemperatures  Operating(To): {T0} °K  \\tEffective(Te): {Te:.0f} °K  \\tAntenna(Tant): {Tant} °K\")\n",
    "print(f\"\\tReceive Bandwidth\t(BWRX): {BWRX} MHz \\tNoise Power (at RX) : {Pn:.1f} dB\")\n",
    "print(f\"\\tRequired SNR: {SNRRX:.1f} dB\")\n",
    "\n",
    "#Passive Illumination Source"
   ]
  },
  {
   "cell_type": "code",
   "execution_count": 3,
   "metadata": {},
   "outputs": [],
   "source": [
    "# OC radar albedo  (sigmaHatOC)\n",
    "# ratio of its OC radar cross section (σOC) to its cross-sectional area - See Ref 2\n",
    "#                4σOC \n",
    "# sigmaHatOC = -----------\n",
    "#               π Deff^2\n",
    "# assume a conservative value of 0.1\n",
    "sigmaHatOC=0.1\n"
   ]
  },
  {
   "cell_type": "code",
   "execution_count": 26,
   "metadata": {},
   "outputs": [
    {
     "name": "stdout",
     "output_type": "stream",
     "text": [
      "Target Diameter: 20 m  Albedo: 0.15   Actual Area: 314.16 sqm\n",
      "Effective RCS dSS: 16.73 dBsm\n",
      "Wavelength (Lambda - Ld): 0.176 m\n",
      "quarter Wavelength (Lambda - Ld): 0.044 m\n",
      "Quiet Sun Flex Incident power 538079 Jy  /  -173 dBm\n",
      "Active Sun Flex Incident power 17910436 Jy  /  -157 dBm\n"
     ]
    }
   ],
   "source": [
    "#Target Diameter (m)\n",
    "Dt=20                 #m\n",
    "albedo=0.15           #dimensionless\n",
    "Tarea=np.pi*(Dt/2)**2  #sm\n",
    "#TargetSize = Actual Area * Albedo \n",
    "SS=Tarea*albedo                 #sqm\n",
    "dSS=10*np.log10(SS)\n",
    "#Center Freq of Sample Signal\n",
    "Fc=1.7               #GHz\n",
    "#Speed of Light\n",
    "c=299792458           #m/s\n",
    "#Wavelength\n",
    "Ld=c/(Fc*1e9)\n",
    "#Incident Quiet Sun Flux on Target\n",
    "# Fcenter - \n",
    "FLUXsunq=(Fc-BWRX/2/1000)*307555+16773\n",
    "FLUXsunqq=quietSundBmJy(Fc)\n",
    "#Effective Radiated Power Spectrum\n",
    "\n",
    "#Effective Radiated Power over Rx BW\n",
    "\n",
    "print(f\"Target Diameter: {Dt} m  Albedo: {albedo}   Actual Area: {np.round(Tarea,2)} sqm\")\n",
    "print(f\"Effective RCS dSS: {dSS:1.2f} dBsm\")\n",
    "print(f\"Wavelength (Lambda - Ld): {Ld:1.3f} m\")\n",
    "print(f\"quarter Wavelength (Lambda - Ld): {Ld/4:1.3f} m\")\n",
    "print(f\"Quiet Sun Flex Incident power {FLUXsunq:5.0f} Jy  / {FLUXsunqq:5.0f} dBm\")\n",
    "print(f\"Active Sun Flex Incident power {activeSun(Fc):5.0f} Jy  / {activeSundBmJy(Fc):5.0f} dBm\")\n"
   ]
  },
  {
   "cell_type": "code",
   "execution_count": 161,
   "metadata": {},
   "outputs": [
    {
     "data": {
      "text/plain": [
       "57.29577951308232"
      ]
     },
     "execution_count": 161,
     "metadata": {},
     "output_type": "execute_result"
    }
   ],
   "source": [
    "# Target size FOV\n",
    "\n"
   ]
  },
  {
   "cell_type": "markdown",
   "metadata": {},
   "source": [
    "# Useful Quantities\n",
    "\n",
    " 1. Irradiance Units [wikiPedia Ref Link](https://en.wikipedia.org/wiki/Irradiance)\n",
    "    1. Spectral Radiance: watt per steradian per square metre per hertz \n",
    "        Radiance of a surface per unit frequency or wavelength. The latter is commonly measured in W⋅sr−1⋅m−2⋅nm−1. This is a directional quantity.\n",
    "    2. Spectral intensity: watt per steradian per hertz \n",
    "        Radiant intensity per unit frequency or wavelength. The latter is commonly measured in W⋅sr−1⋅Hz-1. This is a directional quantity.  \n",
    "2. Energy Units\n",
    "   1. Jansky: unit of spectral flux density\n",
    "        Pdbm*m^-2*Hz^-1 = 10*log10(Pjy)-230\n",
    "        PdbW*m^-2*Hz^-1 = 10*log10(Pjy)-260\n",
    "   2. erg/s to Watts: 1 W = 10000000 erg/s"
   ]
  },
  {
   "cell_type": "code",
   "execution_count": null,
   "metadata": {},
   "outputs": [],
   "source": []
  },
  {
   "cell_type": "markdown",
   "metadata": {},
   "source": [
    "# Random Supporting Links\n",
    "\n",
    "1. [Asteroid Comparisons - Metal Ball Studios](https://www.youtube.com/watch?v=bSkPNMjRRio&t=54s)\n",
    "2. [Nasa plan to save the earth from Asteroids](https://www.treehugger.com/neo-surveillance-killer-asteroids-nasa-4860013)\n",
    "3. [Inferring asteroid surface properties from radar albedos and circular-polarization ratios](https://echo.jpl.nasa.gov/asteroids/virkki.etal.2014.radar.albedos.poln.ratios.pdf)\n",
    "\n",
    "# Supporting Technologies\n",
    "\n",
    "1. [High-accuracy Time and Frequency in VLBI](https://www.haystack.mit.edu/wp-content/uploads/2020/07/conf_TOW2019_seminar_Pazamickas_Sem.pdf)"
   ]
  },
  {
   "cell_type": "markdown",
   "metadata": {},
   "source": []
  },
  {
   "cell_type": "code",
   "execution_count": 1,
   "metadata": {},
   "outputs": [
    {
     "name": "stdout",
     "output_type": "stream",
     "text": [
      "/Users/leif/Documents/sinkt/SourceCode/Python/Space_and_Astronomy/NEA_Tracking_Calcs\n"
     ]
    }
   ],
   "source": []
  },
  {
   "cell_type": "code",
   "execution_count": null,
   "metadata": {},
   "outputs": [],
   "source": []
  },
  {
   "cell_type": "markdown",
   "metadata": {},
   "source": [
    "***\n",
    "$\\mathbf{\\text{Gradient Tree Boosting Algorithm}}$<br>\n",
    "***\n",
    "1.&emsp;Initialize model with a constant value $$f_{0}(x) = \\textrm{arg min}_{\\gamma} \\sum \\limits _{i=1} ^{N} L(y_{i}, \\gamma)$$\n",
    "2.&emsp;For m = 1 to M:<br>\n",
    "&emsp;&emsp;(a)&emsp;For $i = 1,2,...,N$ compute<br>\n",
    "    $$r_{im} = - \\displaystyle \\Bigg[\\frac{\\partial L(y_{i}, f(x_{i}))}{\\partial f(x_{i})}\\Bigg]_{f=f_{m−1}}$$\n",
    "&emsp;&emsp;(b)&emsp;Fit a regression tree to the targets $r_{im}$ giving terminal regions<br>\n",
    "&emsp;&emsp;&emsp;&emsp;$R_{jm}, j = 1, 2, . . . , J_{m}.$<br><br>\n",
    "&emsp;&emsp;(c)&emsp;For $j = 1, 2, . . . , J_{m}$ compute<br>\n",
    "$$\\gamma_{jm} = \\underset{\\gamma}{\\textrm{arg min}} \\sum \\limits _{x_{i} \\in R_{jm}} L(y_{i}, f_{m−1}(x_{i}) + \\gamma)$$\n",
    "&emsp;&emsp;(d)&emsp;Update $f_{m}(x) = f_{m−1}(x) + \\sum _{j=1} ^{J_{m}} \\gamma_{jm} I(x \\in R_{jm})$<br><br>\n",
    "1. Output $\\hat{f}(x) = f_{M}(x)$\n",
    "***"
   ]
  },
  {
   "cell_type": "markdown",
   "metadata": {},
   "source": []
  },
  {
   "cell_type": "code",
   "execution_count": 12,
   "metadata": {},
   "outputs": [
    {
     "name": "stdout",
     "output_type": "stream",
     "text": [
      "Energy per kilogram of mass: 19584787.0J 4.68 kg of TNT \n",
      "Energy for full mass: 19584786637.0J 5.0 tons of TNT \n"
     ]
    }
   ],
   "source": [
    "#\n",
    "# Conversion Rate \n",
    "# 1 ton of TNT = 4.184e9 J\n",
    "#\n",
    "mass=1000  #kg\n",
    "V=14000    #MPH\n",
    "V=14000 * 5280 / 3600 * 0.3048 # m/s\n",
    "\n",
    "engeryPerKilo = 0.5 * V ** 2\n",
    "print(f\"Energy per kilogram of mass: {np.round(engeryPerKilo)}J {np.round(engeryPerKilo/4.184e6,2)} kg of TNT \")\n",
    "print(f\"Energy for full mass: {np.round(engeryPerKilo*mass)}J {np.round(engeryPerKilo*mass/4.184e9)} tons of TNT \")\n"
   ]
  },
  {
   "cell_type": "code",
   "execution_count": null,
   "metadata": {},
   "outputs": [],
   "source": []
  }
 ],
 "metadata": {
  "kernelspec": {
   "display_name": "Python 3.9.13 ('spacePython')",
   "language": "python",
   "name": "python3"
  },
  "language_info": {
   "codemirror_mode": {
    "name": "ipython",
    "version": 3
   },
   "file_extension": ".py",
   "mimetype": "text/x-python",
   "name": "python",
   "nbconvert_exporter": "python",
   "pygments_lexer": "ipython3",
   "version": "3.9.16 (main, Dec  7 2022, 10:02:13) \n[Clang 14.0.0 (clang-1400.0.29.202)]"
  },
  "vscode": {
   "interpreter": {
    "hash": "a6cf759572cd6159a0a99c3cd1d8ca64e030c5bfadec13813dd99416dbd460fb"
   }
  }
 },
 "nbformat": 4,
 "nbformat_minor": 4
}
